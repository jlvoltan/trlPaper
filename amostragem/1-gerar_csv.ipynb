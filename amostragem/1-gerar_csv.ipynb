{
  "cells": [
    {
      "cell_type": "markdown",
      "source": [
        "# Gerar CSV"
      ],
      "metadata": {
        "id": "xVQvBIrEXz3e"
      }
    },
    {
      "cell_type": "markdown",
      "source": [
        "- Versão feita em **17 setembro de 2023** para rodar no Colab"
      ],
      "metadata": {
        "id": "Q49HqNrJplME"
      }
    },
    {
      "cell_type": "markdown",
      "source": [
        "**Missão:** Este arquivo tem por objetivo a partir de um conjunto de arquivos JSON, gerar um arquivo CSV."
      ],
      "metadata": {
        "id": "kAfOgW3LnDkd"
      }
    },
    {
      "cell_type": "markdown",
      "metadata": {
        "id": "kkJ1A8dWliay"
      },
      "source": [
        "# Manipulação de JSON"
      ]
    },
    {
      "cell_type": "markdown",
      "source": [
        "## Parâmetros"
      ],
      "metadata": {
        "id": "QojUCxc5GK89"
      }
    },
    {
      "cell_type": "markdown",
      "source": [
        "- Aqui estamos setando a variável \"pasta\" para o nome do diretório onde se encontrará o nosso dataset, após a extração."
      ],
      "metadata": {
        "id": "VnZIMYmQmJHz"
      }
    },
    {
      "cell_type": "code",
      "execution_count": null,
      "metadata": {
        "id": "6VrSDH1vlia5"
      },
      "outputs": [],
      "source": [
        "pasta = 'dataset'\n",
        "arquivo = 'dataset.rar'"
      ]
    },
    {
      "cell_type": "markdown",
      "source": [
        "### Ignorando avisos no Pandas"
      ],
      "metadata": {
        "id": "us69CfwA8qZW"
      }
    },
    {
      "cell_type": "code",
      "source": [
        "import warnings\n",
        "# Ignorar o warning específico\n",
        "warnings.filterwarnings(\"ignore\", category=DeprecationWarning)"
      ],
      "metadata": {
        "id": "HruxxEQz8s71"
      },
      "execution_count": null,
      "outputs": []
    },
    {
      "cell_type": "markdown",
      "source": [
        "## Importe o arquivo RAR"
      ],
      "metadata": {
        "id": "772Q24OWFPg-"
      }
    },
    {
      "cell_type": "markdown",
      "source": [
        "- A ideia aqui é importarmos a pasta dataset.rar para o colab"
      ],
      "metadata": {
        "id": "Gl-x1xBeGqnC"
      }
    },
    {
      "cell_type": "markdown",
      "source": [
        "- Depois de importar, devemos descompatar, seguindo as células a seguir:"
      ],
      "metadata": {
        "id": "Q0v3R-deFWpS"
      }
    },
    {
      "cell_type": "code",
      "source": [
        "!pip install rarfile"
      ],
      "metadata": {
        "colab": {
          "base_uri": "https://localhost:8080/"
        },
        "id": "rnDlKlT6FUUz",
        "outputId": "43425150-0294-497d-c20e-3d172f4b2787"
      },
      "execution_count": null,
      "outputs": [
        {
          "output_type": "stream",
          "name": "stdout",
          "text": [
            "Collecting rarfile\n",
            "  Downloading rarfile-4.0-py3-none-any.whl (28 kB)\n",
            "Installing collected packages: rarfile\n",
            "Successfully installed rarfile-4.0\n"
          ]
        }
      ]
    },
    {
      "cell_type": "code",
      "source": [
        "import rarfile\n",
        "import glob\n",
        "import os\n",
        "\n",
        "# Abra o arquivo RAR\n",
        "rar = rarfile.RarFile(arquivo)\n",
        "\n",
        "# Extraia todos os arquivos para um diretório específico\n",
        "rar.extractall('')\n",
        "\n",
        "# Feche o arquivo RAR\n",
        "rar.close()"
      ],
      "metadata": {
        "id": "DAewnccQFV8f"
      },
      "execution_count": null,
      "outputs": []
    },
    {
      "cell_type": "markdown",
      "source": [
        "* Só para garantir iremos excluir o arquivo modelo.json, caso exista:"
      ],
      "metadata": {
        "id": "iMEqWQ1KG3Bb"
      }
    },
    {
      "cell_type": "code",
      "source": [
        "if os.path.exists(\"dataset/modelo.json\"):\n",
        "    os.remove(\"dataset/modelo.json\")\n",
        "    print(\"Arquivo 'modelo.json' excluído com sucesso!\")\n",
        "else:\n",
        "    print(\"O arquivo 'modelo.json' não existe na pasta 'dataset'.\")"
      ],
      "metadata": {
        "colab": {
          "base_uri": "https://localhost:8080/"
        },
        "id": "HoSwFUQyHOqR",
        "outputId": "9efcfb7a-a54b-48da-e885-2b893b00dd55"
      },
      "execution_count": null,
      "outputs": [
        {
          "output_type": "stream",
          "name": "stdout",
          "text": [
            "O arquivo 'modelo.json' não existe na pasta 'dataset'.\n"
          ]
        }
      ]
    },
    {
      "cell_type": "markdown",
      "source": [
        "- Aqui iremos contar a quantidade de arquivos JSON:"
      ],
      "metadata": {
        "id": "h7YmdwqZGxWe"
      }
    },
    {
      "cell_type": "code",
      "source": [
        "arquivos_json = glob.glob(os.path.join(pasta, '*.json'))\n",
        "\n",
        "quantidade = len(arquivos_json)\n",
        "print(\"Quantidade de arquivos JSON na pasta \" + pasta + \":    \" + str(quantidade))"
      ],
      "metadata": {
        "colab": {
          "base_uri": "https://localhost:8080/"
        },
        "id": "L8PkFgskFV_3",
        "outputId": "d6bfc59c-c170-49cd-c577-48d175b3a60b"
      },
      "execution_count": null,
      "outputs": [
        {
          "output_type": "stream",
          "name": "stdout",
          "text": [
            "Quantidade de arquivos JSON na pasta dataset:    168\n"
          ]
        }
      ]
    },
    {
      "cell_type": "markdown",
      "metadata": {
        "id": "rrET1iaxlia1"
      },
      "source": [
        "## Abrindo um conjunto de JSON em uma pasta"
      ]
    },
    {
      "cell_type": "markdown",
      "metadata": {
        "id": "WHpOgar5lia1"
      },
      "source": [
        "- Bibliotecas:"
      ]
    },
    {
      "cell_type": "code",
      "execution_count": null,
      "metadata": {
        "id": "Mt3I0IQelia2"
      },
      "outputs": [],
      "source": [
        "import os\n",
        "import json\n",
        "import pandas as pd\n",
        "import codecs"
      ]
    },
    {
      "cell_type": "markdown",
      "metadata": {
        "id": "cbUZ_EKAlia4"
      },
      "source": [
        "- Setando a pasta"
      ]
    },
    {
      "cell_type": "code",
      "execution_count": null,
      "metadata": {
        "colab": {
          "base_uri": "https://localhost:8080/"
        },
        "id": "3YPZq_Walia4",
        "outputId": "034cadd6-ec26-452f-f335-48958bb6007f"
      },
      "outputs": [
        {
          "output_type": "stream",
          "name": "stdout",
          "text": [
            "/content\n"
          ]
        }
      ],
      "source": [
        "#Diretório atual\n",
        "cwd = os. getcwd()\n",
        "print(cwd)"
      ]
    },
    {
      "cell_type": "markdown",
      "metadata": {
        "id": "jZPyz_7Flia5"
      },
      "source": [
        "## Criando o dataframe a partir dos arquivos JSON"
      ]
    },
    {
      "cell_type": "code",
      "execution_count": null,
      "metadata": {
        "id": "JTFFfyQRlia6"
      },
      "outputs": [],
      "source": [
        "df = pd.DataFrame(columns=['id','titulo', 'autor','url', 'tipo_documento',  'rotulo',  'resumo', 'texto'])"
      ]
    },
    {
      "cell_type": "code",
      "source": [
        "df"
      ],
      "metadata": {
        "colab": {
          "base_uri": "https://localhost:8080/",
          "height": 53
        },
        "id": "5916YUtGRy5R",
        "outputId": "dfecefdc-75f0-4855-a22a-23d6649de7b4"
      },
      "execution_count": null,
      "outputs": [
        {
          "output_type": "execute_result",
          "data": {
            "text/plain": [
              "Empty DataFrame\n",
              "Columns: [id, titulo, autor, url, tipo_documento, rotulo, resumo, texto]\n",
              "Index: []"
            ],
            "text/html": [
              "\n",
              "  <div id=\"df-284f5042-4c02-42a2-9b70-8d5ac7812269\" class=\"colab-df-container\">\n",
              "    <div>\n",
              "<style scoped>\n",
              "    .dataframe tbody tr th:only-of-type {\n",
              "        vertical-align: middle;\n",
              "    }\n",
              "\n",
              "    .dataframe tbody tr th {\n",
              "        vertical-align: top;\n",
              "    }\n",
              "\n",
              "    .dataframe thead th {\n",
              "        text-align: right;\n",
              "    }\n",
              "</style>\n",
              "<table border=\"1\" class=\"dataframe\">\n",
              "  <thead>\n",
              "    <tr style=\"text-align: right;\">\n",
              "      <th></th>\n",
              "      <th>id</th>\n",
              "      <th>titulo</th>\n",
              "      <th>autor</th>\n",
              "      <th>url</th>\n",
              "      <th>tipo_documento</th>\n",
              "      <th>rotulo</th>\n",
              "      <th>resumo</th>\n",
              "      <th>texto</th>\n",
              "    </tr>\n",
              "  </thead>\n",
              "  <tbody>\n",
              "  </tbody>\n",
              "</table>\n",
              "</div>\n",
              "    <div class=\"colab-df-buttons\">\n",
              "\n",
              "  <div class=\"colab-df-container\">\n",
              "    <button class=\"colab-df-convert\" onclick=\"convertToInteractive('df-284f5042-4c02-42a2-9b70-8d5ac7812269')\"\n",
              "            title=\"Convert this dataframe to an interactive table.\"\n",
              "            style=\"display:none;\">\n",
              "\n",
              "  <svg xmlns=\"http://www.w3.org/2000/svg\" height=\"24px\" viewBox=\"0 -960 960 960\">\n",
              "    <path d=\"M120-120v-720h720v720H120Zm60-500h600v-160H180v160Zm220 220h160v-160H400v160Zm0 220h160v-160H400v160ZM180-400h160v-160H180v160Zm440 0h160v-160H620v160ZM180-180h160v-160H180v160Zm440 0h160v-160H620v160Z\"/>\n",
              "  </svg>\n",
              "    </button>\n",
              "\n",
              "  <style>\n",
              "    .colab-df-container {\n",
              "      display:flex;\n",
              "      gap: 12px;\n",
              "    }\n",
              "\n",
              "    .colab-df-convert {\n",
              "      background-color: #E8F0FE;\n",
              "      border: none;\n",
              "      border-radius: 50%;\n",
              "      cursor: pointer;\n",
              "      display: none;\n",
              "      fill: #1967D2;\n",
              "      height: 32px;\n",
              "      padding: 0 0 0 0;\n",
              "      width: 32px;\n",
              "    }\n",
              "\n",
              "    .colab-df-convert:hover {\n",
              "      background-color: #E2EBFA;\n",
              "      box-shadow: 0px 1px 2px rgba(60, 64, 67, 0.3), 0px 1px 3px 1px rgba(60, 64, 67, 0.15);\n",
              "      fill: #174EA6;\n",
              "    }\n",
              "\n",
              "    .colab-df-buttons div {\n",
              "      margin-bottom: 4px;\n",
              "    }\n",
              "\n",
              "    [theme=dark] .colab-df-convert {\n",
              "      background-color: #3B4455;\n",
              "      fill: #D2E3FC;\n",
              "    }\n",
              "\n",
              "    [theme=dark] .colab-df-convert:hover {\n",
              "      background-color: #434B5C;\n",
              "      box-shadow: 0px 1px 3px 1px rgba(0, 0, 0, 0.15);\n",
              "      filter: drop-shadow(0px 1px 2px rgba(0, 0, 0, 0.3));\n",
              "      fill: #FFFFFF;\n",
              "    }\n",
              "  </style>\n",
              "\n",
              "    <script>\n",
              "      const buttonEl =\n",
              "        document.querySelector('#df-284f5042-4c02-42a2-9b70-8d5ac7812269 button.colab-df-convert');\n",
              "      buttonEl.style.display =\n",
              "        google.colab.kernel.accessAllowed ? 'block' : 'none';\n",
              "\n",
              "      async function convertToInteractive(key) {\n",
              "        const element = document.querySelector('#df-284f5042-4c02-42a2-9b70-8d5ac7812269');\n",
              "        const dataTable =\n",
              "          await google.colab.kernel.invokeFunction('convertToInteractive',\n",
              "                                                    [key], {});\n",
              "        if (!dataTable) return;\n",
              "\n",
              "        const docLinkHtml = 'Like what you see? Visit the ' +\n",
              "          '<a target=\"_blank\" href=https://colab.research.google.com/notebooks/data_table.ipynb>data table notebook</a>'\n",
              "          + ' to learn more about interactive tables.';\n",
              "        element.innerHTML = '';\n",
              "        dataTable['output_type'] = 'display_data';\n",
              "        await google.colab.output.renderOutput(dataTable, element);\n",
              "        const docLink = document.createElement('div');\n",
              "        docLink.innerHTML = docLinkHtml;\n",
              "        element.appendChild(docLink);\n",
              "      }\n",
              "    </script>\n",
              "  </div>\n",
              "\n",
              "    </div>\n",
              "  </div>\n"
            ]
          },
          "metadata": {},
          "execution_count": 10
        }
      ]
    },
    {
      "cell_type": "code",
      "execution_count": null,
      "metadata": {
        "id": "pshI98enlia6",
        "colab": {
          "base_uri": "https://localhost:8080/"
        },
        "outputId": "11c57582-d7af-4150-d44b-3ab0c20f8593"
      },
      "outputs": [
        {
          "output_type": "stream",
          "name": "stdout",
          "text": [
            "dataset/133.json\n",
            "dataset/152.json\n",
            "dataset/86.json\n",
            "dataset/127.json\n",
            "dataset/108.json\n",
            "dataset/175.json\n",
            "dataset/55.json\n",
            "dataset/82.json\n",
            "dataset/93.json\n",
            "dataset/185.json\n",
            "dataset/62.json\n",
            "dataset/35.json\n",
            "dataset/165.json\n",
            "dataset/47.json\n",
            "dataset/67.json\n",
            "dataset/27.json\n",
            "dataset/124.json\n",
            "dataset/90.json\n",
            "dataset/167.json\n",
            "dataset/180.json\n",
            "dataset/18.json\n",
            "dataset/74.json\n",
            "dataset/94.json\n",
            "dataset/146.json\n",
            "dataset/38.json\n",
            "dataset/53.json\n",
            "dataset/158.json\n",
            "dataset/157.json\n",
            "dataset/143.json\n",
            "dataset/123.json\n",
            "dataset/39.json\n",
            "dataset/24.json\n",
            "dataset/102.json\n",
            "dataset/28.json\n",
            "dataset/169.json\n",
            "dataset/19.json\n",
            "dataset/95.json\n",
            "dataset/184.json\n",
            "dataset/78.json\n",
            "dataset/100.json\n",
            "dataset/130.json\n",
            "dataset/60.json\n",
            "dataset/7.json\n",
            "dataset/48.json\n",
            "dataset/137.json\n",
            "dataset/179.json\n",
            "dataset/22.json\n",
            "dataset/54.json\n",
            "dataset/187.json\n",
            "dataset/155.json\n",
            "dataset/46.json\n",
            "dataset/32.json\n",
            "dataset/119.json\n",
            "dataset/141.json\n",
            "dataset/114.json\n",
            "dataset/132.json\n",
            "dataset/33.json\n",
            "dataset/154.json\n",
            "dataset/134.json\n",
            "dataset/80.json\n",
            "dataset/98.json\n",
            "dataset/176.json\n",
            "dataset/156.json\n",
            "dataset/106.json\n",
            "dataset/116.json\n",
            "dataset/91.json\n",
            "dataset/144.json\n",
            "dataset/131.json\n",
            "dataset/20.json\n",
            "dataset/183.json\n",
            "dataset/84.json\n",
            "dataset/42.json\n",
            "dataset/136.json\n",
            "dataset/163.json\n",
            "dataset/147.json\n",
            "dataset/83.json\n",
            "dataset/173.json\n",
            "dataset/79.json\n",
            "dataset/121.json\n",
            "dataset/103.json\n",
            "dataset/138.json\n",
            "dataset/58.json\n",
            "dataset/181.json\n",
            "dataset/150.json\n",
            "dataset/135.json\n",
            "dataset/110.json\n",
            "dataset/178.json\n",
            "dataset/101.json\n",
            "dataset/186.json\n",
            "dataset/105.json\n",
            "dataset/107.json\n",
            "dataset/12.json\n",
            "dataset/37.json\n",
            "dataset/140.json\n",
            "dataset/87.json\n",
            "dataset/59.json\n",
            "dataset/129.json\n",
            "dataset/153.json\n",
            "dataset/77.json\n",
            "dataset/97.json\n",
            "dataset/2.json\n",
            "dataset/160.json\n",
            "dataset/159.json\n",
            "dataset/76.json\n",
            "dataset/65.json\n",
            "dataset/30.json\n",
            "dataset/162.json\n",
            "dataset/104.json\n",
            "dataset/23.json\n",
            "dataset/63.json\n",
            "dataset/50.json\n",
            "dataset/126.json\n",
            "dataset/112.json\n",
            "dataset/1.json\n",
            "dataset/34.json\n",
            "dataset/68.json\n",
            "dataset/8.json\n",
            "dataset/85.json\n",
            "dataset/170.json\n",
            "dataset/41.json\n",
            "dataset/29.json\n",
            "dataset/148.json\n",
            "dataset/51.json\n",
            "dataset/120.json\n",
            "dataset/56.json\n",
            "dataset/149.json\n",
            "dataset/117.json\n",
            "dataset/36.json\n",
            "dataset/96.json\n",
            "dataset/43.json\n",
            "dataset/161.json\n",
            "dataset/17.json\n",
            "dataset/5.json\n",
            "dataset/92.json\n",
            "dataset/118.json\n",
            "dataset/171.json\n",
            "dataset/115.json\n",
            "dataset/71.json\n",
            "dataset/11.json\n",
            "dataset/10.json\n",
            "dataset/182.json\n",
            "dataset/73.json\n",
            "dataset/61.json\n",
            "dataset/125.json\n",
            "dataset/75.json\n",
            "dataset/66.json\n",
            "dataset/168.json\n",
            "dataset/16.json\n",
            "dataset/139.json\n",
            "dataset/57.json\n",
            "dataset/14.json\n",
            "dataset/25.json\n",
            "dataset/6.json\n",
            "dataset/128.json\n",
            "dataset/45.json\n",
            "dataset/3.json\n",
            "dataset/49.json\n",
            "dataset/166.json\n",
            "dataset/111.json\n",
            "dataset/15.json\n",
            "dataset/69.json\n",
            "dataset/164.json\n",
            "dataset/99.json\n",
            "dataset/88.json\n",
            "dataset/31.json\n",
            "dataset/142.json\n",
            "dataset/13.json\n",
            "dataset/72.json\n"
          ]
        }
      ],
      "source": [
        "for nome_arquivo in os.listdir(pasta):\n",
        "    caminho_arquivo = os.path.join(pasta, nome_arquivo)\n",
        "    print(caminho_arquivo)\n",
        "    # Verifique se o arquivo é um arquivo JSON\n",
        "    if nome_arquivo.endswith('.json') and os.path.isfile(caminho_arquivo):\n",
        "        dados = json.load(codecs.open(caminho_arquivo, 'r', 'utf-8-sig'))\n",
        "        df_json = pd.DataFrame([dados])\n",
        "        df = pd.concat([df, df_json], ignore_index=True)\n",
        "        # O método append deixará de ser usado em breve\n",
        "        # df = df.append(dados, ignore_index=True)"
      ]
    },
    {
      "cell_type": "code",
      "source": [
        "df"
      ],
      "metadata": {
        "colab": {
          "base_uri": "https://localhost:8080/",
          "height": 1000
        },
        "id": "vZ6ssXZjoqkA",
        "outputId": "bfbf3e3f-09dc-4b7e-aa1f-ba3f4d24c2b2"
      },
      "execution_count": null,
      "outputs": [
        {
          "output_type": "execute_result",
          "data": {
            "text/plain": [
              "      id                                             titulo  \\\n",
              "0    133  uma arquitetura para sistemas micropipeline de...   \n",
              "1    152   identificação de embarcações em imagens de ra...   \n",
              "2     86  simulação da redução dos efeitos da dispersão ...   \n",
              "3    127  tecnologias para comunicações militares: análi...   \n",
              "4    108  síntese de contadores síncronos de alta latênc...   \n",
              "..   ...                                                ...   \n",
              "163   88  estudo dos efeitos de dircm em mísseis infrave...   \n",
              "164   31  centro de avaliações do exército finaliza test...   \n",
              "165  142  planejamento de trajetória de múltiplos robôs ...   \n",
              "166   13  centro de avaliações do exército inicia avalia...   \n",
              "167   72  desenvolvimento de biossensor para detecção de...   \n",
              "\n",
              "                                                 autor  \\\n",
              "0    duarte l. oliveira, kledermon garcia, roberto ...   \n",
              "1                                            gamba, s.   \n",
              "2    Rogerio Barbosa Marques, Joaquim José Barroso ...   \n",
              "3    alessandro roberto dos santos e josé edimar ba...   \n",
              "4    duarte l. oliveira, tiago curtinhas, lester a....   \n",
              "..                                                 ...   \n",
              "163  caio augusto de melo silvestre, lester de abre...   \n",
              "164                             Noticiário do Exército   \n",
              "165  johnathan fercher da rosa, paulo fernando ferr...   \n",
              "166                             Noticiário do Exército   \n",
              "167  nadja fernanda gonzaga serrano, ivan perazzoli...   \n",
              "\n",
              "                                                   url      tipo_documento  \\\n",
              "0    https://www.sige.ita.br/edicoes-anteriores/201...  Artigo de Simpósio   \n",
              "1    https://www.sige.ita.br/edicoes-anteriores/201...  Artigo de Simpósio   \n",
              "2    https://www.sige.ita.br/edicoes-anteriores/201...  Artigo de Simpósio   \n",
              "3    https://www.sige.ita.br/edicoes-anteriores/201...  Artigo de Simpósio   \n",
              "4    https://www.sige.ita.br/edicoes-anteriores/201...  Artigo de Simpósio   \n",
              "..                                                 ...                 ...   \n",
              "163  https://www.sige.ita.br/edicoes-anteriores/201...  Artigo de Simpósio   \n",
              "164  https://www.eb.mil.br/web/noticias/noticiario-...             Notícia   \n",
              "165  http://www.ebrevistas.eb.mil.br/CT/article/vie...   Artigo de Revista   \n",
              "166  https://www.eb.mil.br/web/noticias/noticiario-...             Notícia   \n",
              "167  https://www.sige.ita.br/edicoes-anteriores/201...  Artigo de Simpósio   \n",
              "\n",
              "    rotulo                                             resumo  \\\n",
              "0        1  O paradigma assíncrono possui características ...   \n",
              "1        1  O objetivo deste trabalho é identificar embarc...   \n",
              "2        1  Os enlaces ópticos possibilitam a transmissão ...   \n",
              "3        1  Este trabalho enfatiza a necessidade de novas ...   \n",
              "4        1  A memória da parte sequencial de um sistema di...   \n",
              "..     ...                                                ...   \n",
              "163      1  O crescente emprego de mísseis de ombro infrav...   \n",
              "164      3                                                  0   \n",
              "165      2   Este artigo demonstra uma abordagem para trat...   \n",
              "166      3                                                  0   \n",
              "167      2  A rápida e segura identificação e classificaçã...   \n",
              "\n",
              "                                                 texto  \n",
              "0    I. INTRODUÇÃO Sistemas digitais embarcados req...  \n",
              "1      I. INTRODUÇÃO No Brasil, o transporte maríti...  \n",
              "2     I. INTRODUÇÃO A Força Aérea Brasileira possui...  \n",
              "3     I. INTRODUÇÃO A necessidade de implantação em...  \n",
              "4     I. INTRODUÇÃO A fase corrente da microeletrôn...  \n",
              "..                                                 ...  \n",
              "163   Mísseis Infravermelhos, especialmente os do t...  \n",
              "164  Rio de Janeiro (RJ) – O Centro de Avaliações d...  \n",
              "165   1. Introdução A robótica vem evoluindo muito ...  \n",
              "166  Rio de Janeiro (RJ) – O Centro de Avaliações d...  \n",
              "167   I. INTRODUÇÃO Guias de onda retangulares têm ...  \n",
              "\n",
              "[168 rows x 8 columns]"
            ],
            "text/html": [
              "\n",
              "  <div id=\"df-280aaa3a-6004-4db2-ac53-03dbe5e3852d\" class=\"colab-df-container\">\n",
              "    <div>\n",
              "<style scoped>\n",
              "    .dataframe tbody tr th:only-of-type {\n",
              "        vertical-align: middle;\n",
              "    }\n",
              "\n",
              "    .dataframe tbody tr th {\n",
              "        vertical-align: top;\n",
              "    }\n",
              "\n",
              "    .dataframe thead th {\n",
              "        text-align: right;\n",
              "    }\n",
              "</style>\n",
              "<table border=\"1\" class=\"dataframe\">\n",
              "  <thead>\n",
              "    <tr style=\"text-align: right;\">\n",
              "      <th></th>\n",
              "      <th>id</th>\n",
              "      <th>titulo</th>\n",
              "      <th>autor</th>\n",
              "      <th>url</th>\n",
              "      <th>tipo_documento</th>\n",
              "      <th>rotulo</th>\n",
              "      <th>resumo</th>\n",
              "      <th>texto</th>\n",
              "    </tr>\n",
              "  </thead>\n",
              "  <tbody>\n",
              "    <tr>\n",
              "      <th>0</th>\n",
              "      <td>133</td>\n",
              "      <td>uma arquitetura para sistemas micropipeline de...</td>\n",
              "      <td>duarte l. oliveira, kledermon garcia, roberto ...</td>\n",
              "      <td>https://www.sige.ita.br/edicoes-anteriores/201...</td>\n",
              "      <td>Artigo de Simpósio</td>\n",
              "      <td>1</td>\n",
              "      <td>O paradigma assíncrono possui características ...</td>\n",
              "      <td>I. INTRODUÇÃO Sistemas digitais embarcados req...</td>\n",
              "    </tr>\n",
              "    <tr>\n",
              "      <th>1</th>\n",
              "      <td>152</td>\n",
              "      <td>identificação de embarcações em imagens de ra...</td>\n",
              "      <td>gamba, s.</td>\n",
              "      <td>https://www.sige.ita.br/edicoes-anteriores/201...</td>\n",
              "      <td>Artigo de Simpósio</td>\n",
              "      <td>1</td>\n",
              "      <td>O objetivo deste trabalho é identificar embarc...</td>\n",
              "      <td>I. INTRODUÇÃO No Brasil, o transporte maríti...</td>\n",
              "    </tr>\n",
              "    <tr>\n",
              "      <th>2</th>\n",
              "      <td>86</td>\n",
              "      <td>simulação da redução dos efeitos da dispersão ...</td>\n",
              "      <td>Rogerio Barbosa Marques, Joaquim José Barroso ...</td>\n",
              "      <td>https://www.sige.ita.br/edicoes-anteriores/201...</td>\n",
              "      <td>Artigo de Simpósio</td>\n",
              "      <td>1</td>\n",
              "      <td>Os enlaces ópticos possibilitam a transmissão ...</td>\n",
              "      <td>I. INTRODUÇÃO A Força Aérea Brasileira possui...</td>\n",
              "    </tr>\n",
              "    <tr>\n",
              "      <th>3</th>\n",
              "      <td>127</td>\n",
              "      <td>tecnologias para comunicações militares: análi...</td>\n",
              "      <td>alessandro roberto dos santos e josé edimar ba...</td>\n",
              "      <td>https://www.sige.ita.br/edicoes-anteriores/201...</td>\n",
              "      <td>Artigo de Simpósio</td>\n",
              "      <td>1</td>\n",
              "      <td>Este trabalho enfatiza a necessidade de novas ...</td>\n",
              "      <td>I. INTRODUÇÃO A necessidade de implantação em...</td>\n",
              "    </tr>\n",
              "    <tr>\n",
              "      <th>4</th>\n",
              "      <td>108</td>\n",
              "      <td>síntese de contadores síncronos de alta latênc...</td>\n",
              "      <td>duarte l. oliveira, tiago curtinhas, lester a....</td>\n",
              "      <td>https://www.sige.ita.br/edicoes-anteriores/201...</td>\n",
              "      <td>Artigo de Simpósio</td>\n",
              "      <td>1</td>\n",
              "      <td>A memória da parte sequencial de um sistema di...</td>\n",
              "      <td>I. INTRODUÇÃO A fase corrente da microeletrôn...</td>\n",
              "    </tr>\n",
              "    <tr>\n",
              "      <th>...</th>\n",
              "      <td>...</td>\n",
              "      <td>...</td>\n",
              "      <td>...</td>\n",
              "      <td>...</td>\n",
              "      <td>...</td>\n",
              "      <td>...</td>\n",
              "      <td>...</td>\n",
              "      <td>...</td>\n",
              "    </tr>\n",
              "    <tr>\n",
              "      <th>163</th>\n",
              "      <td>88</td>\n",
              "      <td>estudo dos efeitos de dircm em mísseis infrave...</td>\n",
              "      <td>caio augusto de melo silvestre, lester de abre...</td>\n",
              "      <td>https://www.sige.ita.br/edicoes-anteriores/201...</td>\n",
              "      <td>Artigo de Simpósio</td>\n",
              "      <td>1</td>\n",
              "      <td>O crescente emprego de mísseis de ombro infrav...</td>\n",
              "      <td>Mísseis Infravermelhos, especialmente os do t...</td>\n",
              "    </tr>\n",
              "    <tr>\n",
              "      <th>164</th>\n",
              "      <td>31</td>\n",
              "      <td>centro de avaliações do exército finaliza test...</td>\n",
              "      <td>Noticiário do Exército</td>\n",
              "      <td>https://www.eb.mil.br/web/noticias/noticiario-...</td>\n",
              "      <td>Notícia</td>\n",
              "      <td>3</td>\n",
              "      <td>0</td>\n",
              "      <td>Rio de Janeiro (RJ) – O Centro de Avaliações d...</td>\n",
              "    </tr>\n",
              "    <tr>\n",
              "      <th>165</th>\n",
              "      <td>142</td>\n",
              "      <td>planejamento de trajetória de múltiplos robôs ...</td>\n",
              "      <td>johnathan fercher da rosa, paulo fernando ferr...</td>\n",
              "      <td>http://www.ebrevistas.eb.mil.br/CT/article/vie...</td>\n",
              "      <td>Artigo de Revista</td>\n",
              "      <td>2</td>\n",
              "      <td>Este artigo demonstra uma abordagem para trat...</td>\n",
              "      <td>1. Introdução A robótica vem evoluindo muito ...</td>\n",
              "    </tr>\n",
              "    <tr>\n",
              "      <th>166</th>\n",
              "      <td>13</td>\n",
              "      <td>centro de avaliações do exército inicia avalia...</td>\n",
              "      <td>Noticiário do Exército</td>\n",
              "      <td>https://www.eb.mil.br/web/noticias/noticiario-...</td>\n",
              "      <td>Notícia</td>\n",
              "      <td>3</td>\n",
              "      <td>0</td>\n",
              "      <td>Rio de Janeiro (RJ) – O Centro de Avaliações d...</td>\n",
              "    </tr>\n",
              "    <tr>\n",
              "      <th>167</th>\n",
              "      <td>72</td>\n",
              "      <td>desenvolvimento de biossensor para detecção de...</td>\n",
              "      <td>nadja fernanda gonzaga serrano, ivan perazzoli...</td>\n",
              "      <td>https://www.sige.ita.br/edicoes-anteriores/201...</td>\n",
              "      <td>Artigo de Simpósio</td>\n",
              "      <td>2</td>\n",
              "      <td>A rápida e segura identificação e classificaçã...</td>\n",
              "      <td>I. INTRODUÇÃO Guias de onda retangulares têm ...</td>\n",
              "    </tr>\n",
              "  </tbody>\n",
              "</table>\n",
              "<p>168 rows × 8 columns</p>\n",
              "</div>\n",
              "    <div class=\"colab-df-buttons\">\n",
              "\n",
              "  <div class=\"colab-df-container\">\n",
              "    <button class=\"colab-df-convert\" onclick=\"convertToInteractive('df-280aaa3a-6004-4db2-ac53-03dbe5e3852d')\"\n",
              "            title=\"Convert this dataframe to an interactive table.\"\n",
              "            style=\"display:none;\">\n",
              "\n",
              "  <svg xmlns=\"http://www.w3.org/2000/svg\" height=\"24px\" viewBox=\"0 -960 960 960\">\n",
              "    <path d=\"M120-120v-720h720v720H120Zm60-500h600v-160H180v160Zm220 220h160v-160H400v160Zm0 220h160v-160H400v160ZM180-400h160v-160H180v160Zm440 0h160v-160H620v160ZM180-180h160v-160H180v160Zm440 0h160v-160H620v160Z\"/>\n",
              "  </svg>\n",
              "    </button>\n",
              "\n",
              "  <style>\n",
              "    .colab-df-container {\n",
              "      display:flex;\n",
              "      gap: 12px;\n",
              "    }\n",
              "\n",
              "    .colab-df-convert {\n",
              "      background-color: #E8F0FE;\n",
              "      border: none;\n",
              "      border-radius: 50%;\n",
              "      cursor: pointer;\n",
              "      display: none;\n",
              "      fill: #1967D2;\n",
              "      height: 32px;\n",
              "      padding: 0 0 0 0;\n",
              "      width: 32px;\n",
              "    }\n",
              "\n",
              "    .colab-df-convert:hover {\n",
              "      background-color: #E2EBFA;\n",
              "      box-shadow: 0px 1px 2px rgba(60, 64, 67, 0.3), 0px 1px 3px 1px rgba(60, 64, 67, 0.15);\n",
              "      fill: #174EA6;\n",
              "    }\n",
              "\n",
              "    .colab-df-buttons div {\n",
              "      margin-bottom: 4px;\n",
              "    }\n",
              "\n",
              "    [theme=dark] .colab-df-convert {\n",
              "      background-color: #3B4455;\n",
              "      fill: #D2E3FC;\n",
              "    }\n",
              "\n",
              "    [theme=dark] .colab-df-convert:hover {\n",
              "      background-color: #434B5C;\n",
              "      box-shadow: 0px 1px 3px 1px rgba(0, 0, 0, 0.15);\n",
              "      filter: drop-shadow(0px 1px 2px rgba(0, 0, 0, 0.3));\n",
              "      fill: #FFFFFF;\n",
              "    }\n",
              "  </style>\n",
              "\n",
              "    <script>\n",
              "      const buttonEl =\n",
              "        document.querySelector('#df-280aaa3a-6004-4db2-ac53-03dbe5e3852d button.colab-df-convert');\n",
              "      buttonEl.style.display =\n",
              "        google.colab.kernel.accessAllowed ? 'block' : 'none';\n",
              "\n",
              "      async function convertToInteractive(key) {\n",
              "        const element = document.querySelector('#df-280aaa3a-6004-4db2-ac53-03dbe5e3852d');\n",
              "        const dataTable =\n",
              "          await google.colab.kernel.invokeFunction('convertToInteractive',\n",
              "                                                    [key], {});\n",
              "        if (!dataTable) return;\n",
              "\n",
              "        const docLinkHtml = 'Like what you see? Visit the ' +\n",
              "          '<a target=\"_blank\" href=https://colab.research.google.com/notebooks/data_table.ipynb>data table notebook</a>'\n",
              "          + ' to learn more about interactive tables.';\n",
              "        element.innerHTML = '';\n",
              "        dataTable['output_type'] = 'display_data';\n",
              "        await google.colab.output.renderOutput(dataTable, element);\n",
              "        const docLink = document.createElement('div');\n",
              "        docLink.innerHTML = docLinkHtml;\n",
              "        element.appendChild(docLink);\n",
              "      }\n",
              "    </script>\n",
              "  </div>\n",
              "\n",
              "\n",
              "<div id=\"df-cd1a7868-f556-4869-94b8-3d6a398eba97\">\n",
              "  <button class=\"colab-df-quickchart\" onclick=\"quickchart('df-cd1a7868-f556-4869-94b8-3d6a398eba97')\"\n",
              "            title=\"Suggest charts.\"\n",
              "            style=\"display:none;\">\n",
              "\n",
              "<svg xmlns=\"http://www.w3.org/2000/svg\" height=\"24px\"viewBox=\"0 0 24 24\"\n",
              "     width=\"24px\">\n",
              "    <g>\n",
              "        <path d=\"M19 3H5c-1.1 0-2 .9-2 2v14c0 1.1.9 2 2 2h14c1.1 0 2-.9 2-2V5c0-1.1-.9-2-2-2zM9 17H7v-7h2v7zm4 0h-2V7h2v10zm4 0h-2v-4h2v4z\"/>\n",
              "    </g>\n",
              "</svg>\n",
              "  </button>\n",
              "\n",
              "<style>\n",
              "  .colab-df-quickchart {\n",
              "      --bg-color: #E8F0FE;\n",
              "      --fill-color: #1967D2;\n",
              "      --hover-bg-color: #E2EBFA;\n",
              "      --hover-fill-color: #174EA6;\n",
              "      --disabled-fill-color: #AAA;\n",
              "      --disabled-bg-color: #DDD;\n",
              "  }\n",
              "\n",
              "  [theme=dark] .colab-df-quickchart {\n",
              "      --bg-color: #3B4455;\n",
              "      --fill-color: #D2E3FC;\n",
              "      --hover-bg-color: #434B5C;\n",
              "      --hover-fill-color: #FFFFFF;\n",
              "      --disabled-bg-color: #3B4455;\n",
              "      --disabled-fill-color: #666;\n",
              "  }\n",
              "\n",
              "  .colab-df-quickchart {\n",
              "    background-color: var(--bg-color);\n",
              "    border: none;\n",
              "    border-radius: 50%;\n",
              "    cursor: pointer;\n",
              "    display: none;\n",
              "    fill: var(--fill-color);\n",
              "    height: 32px;\n",
              "    padding: 0;\n",
              "    width: 32px;\n",
              "  }\n",
              "\n",
              "  .colab-df-quickchart:hover {\n",
              "    background-color: var(--hover-bg-color);\n",
              "    box-shadow: 0 1px 2px rgba(60, 64, 67, 0.3), 0 1px 3px 1px rgba(60, 64, 67, 0.15);\n",
              "    fill: var(--button-hover-fill-color);\n",
              "  }\n",
              "\n",
              "  .colab-df-quickchart-complete:disabled,\n",
              "  .colab-df-quickchart-complete:disabled:hover {\n",
              "    background-color: var(--disabled-bg-color);\n",
              "    fill: var(--disabled-fill-color);\n",
              "    box-shadow: none;\n",
              "  }\n",
              "\n",
              "  .colab-df-spinner {\n",
              "    border: 2px solid var(--fill-color);\n",
              "    border-color: transparent;\n",
              "    border-bottom-color: var(--fill-color);\n",
              "    animation:\n",
              "      spin 1s steps(1) infinite;\n",
              "  }\n",
              "\n",
              "  @keyframes spin {\n",
              "    0% {\n",
              "      border-color: transparent;\n",
              "      border-bottom-color: var(--fill-color);\n",
              "      border-left-color: var(--fill-color);\n",
              "    }\n",
              "    20% {\n",
              "      border-color: transparent;\n",
              "      border-left-color: var(--fill-color);\n",
              "      border-top-color: var(--fill-color);\n",
              "    }\n",
              "    30% {\n",
              "      border-color: transparent;\n",
              "      border-left-color: var(--fill-color);\n",
              "      border-top-color: var(--fill-color);\n",
              "      border-right-color: var(--fill-color);\n",
              "    }\n",
              "    40% {\n",
              "      border-color: transparent;\n",
              "      border-right-color: var(--fill-color);\n",
              "      border-top-color: var(--fill-color);\n",
              "    }\n",
              "    60% {\n",
              "      border-color: transparent;\n",
              "      border-right-color: var(--fill-color);\n",
              "    }\n",
              "    80% {\n",
              "      border-color: transparent;\n",
              "      border-right-color: var(--fill-color);\n",
              "      border-bottom-color: var(--fill-color);\n",
              "    }\n",
              "    90% {\n",
              "      border-color: transparent;\n",
              "      border-bottom-color: var(--fill-color);\n",
              "    }\n",
              "  }\n",
              "</style>\n",
              "\n",
              "  <script>\n",
              "    async function quickchart(key) {\n",
              "      const quickchartButtonEl =\n",
              "        document.querySelector('#' + key + ' button');\n",
              "      quickchartButtonEl.disabled = true;  // To prevent multiple clicks.\n",
              "      quickchartButtonEl.classList.add('colab-df-spinner');\n",
              "      try {\n",
              "        const charts = await google.colab.kernel.invokeFunction(\n",
              "            'suggestCharts', [key], {});\n",
              "      } catch (error) {\n",
              "        console.error('Error during call to suggestCharts:', error);\n",
              "      }\n",
              "      quickchartButtonEl.classList.remove('colab-df-spinner');\n",
              "      quickchartButtonEl.classList.add('colab-df-quickchart-complete');\n",
              "    }\n",
              "    (() => {\n",
              "      let quickchartButtonEl =\n",
              "        document.querySelector('#df-cd1a7868-f556-4869-94b8-3d6a398eba97 button');\n",
              "      quickchartButtonEl.style.display =\n",
              "        google.colab.kernel.accessAllowed ? 'block' : 'none';\n",
              "    })();\n",
              "  </script>\n",
              "</div>\n",
              "    </div>\n",
              "  </div>\n"
            ]
          },
          "metadata": {},
          "execution_count": 12
        }
      ]
    },
    {
      "cell_type": "markdown",
      "source": [
        "- Mudando o tipo das colunas **id** e **rotulo** para int"
      ],
      "metadata": {
        "id": "A8Sn3bL_pp6e"
      }
    },
    {
      "cell_type": "code",
      "source": [
        "df['id'] = df['id'].astype(int)\n",
        "df['rotulo'] = df['rotulo'].astype(int)"
      ],
      "metadata": {
        "id": "8ejvY4Id2W2H"
      },
      "execution_count": null,
      "outputs": []
    },
    {
      "cell_type": "markdown",
      "source": [
        "## Explorando o dataframe"
      ],
      "metadata": {
        "id": "Wks6gcFQpw2n"
      }
    },
    {
      "cell_type": "code",
      "source": [
        "df.info()"
      ],
      "metadata": {
        "colab": {
          "base_uri": "https://localhost:8080/"
        },
        "id": "36uD1yQH2KCH",
        "outputId": "a1907af9-7774-45f9-af51-eb65245d8cc9"
      },
      "execution_count": null,
      "outputs": [
        {
          "output_type": "stream",
          "name": "stdout",
          "text": [
            "<class 'pandas.core.frame.DataFrame'>\n",
            "RangeIndex: 168 entries, 0 to 167\n",
            "Data columns (total 8 columns):\n",
            " #   Column          Non-Null Count  Dtype \n",
            "---  ------          --------------  ----- \n",
            " 0   id              168 non-null    int64 \n",
            " 1   titulo          168 non-null    object\n",
            " 2   autor           168 non-null    object\n",
            " 3   url             168 non-null    object\n",
            " 4   tipo_documento  168 non-null    object\n",
            " 5   rotulo          168 non-null    int64 \n",
            " 6   resumo          168 non-null    object\n",
            " 7   texto           168 non-null    object\n",
            "dtypes: int64(2), object(6)\n",
            "memory usage: 10.6+ KB\n"
          ]
        }
      ]
    },
    {
      "cell_type": "code",
      "source": [
        "quantidade_por_grupo = df.groupby('rotulo').size()\n",
        "print(quantidade_por_grupo)"
      ],
      "metadata": {
        "colab": {
          "base_uri": "https://localhost:8080/"
        },
        "id": "MpYfkIaQpuLk",
        "outputId": "5be0f25b-2ada-4edc-a237-d2e3290281c2"
      },
      "execution_count": null,
      "outputs": [
        {
          "output_type": "stream",
          "name": "stdout",
          "text": [
            "rotulo\n",
            "1    94\n",
            "2    41\n",
            "3    33\n",
            "dtype: int64\n"
          ]
        }
      ]
    },
    {
      "cell_type": "code",
      "source": [
        "import seaborn as sns\n",
        "import matplotlib.pyplot as plt\n",
        "sns.set(style=\"darkgrid\")\n",
        "ax = sns.countplot(data=df, x='rotulo')\n",
        "ax.set_ylabel(\"Quantidade\")\n",
        "ax.set_xlabel(\"Classe\")\n",
        "\n",
        "plt.show()"
      ],
      "metadata": {
        "colab": {
          "base_uri": "https://localhost:8080/",
          "height": 458
        },
        "id": "I_cr8BOvqCwR",
        "outputId": "e1003200-0bb4-4d4a-a2b2-5d0f04924b2c"
      },
      "execution_count": null,
      "outputs": [
        {
          "output_type": "display_data",
          "data": {
            "text/plain": [
              "<Figure size 640x480 with 1 Axes>"
            ],
            "image/png": "[encoded data removed]"
          },
          "metadata": {}
        }
      ]
    },
    {
      "cell_type": "markdown",
      "source": [
        "- Gerando um gráfico de *Pizza*"
      ],
      "metadata": {
        "id": "GhjJw-0h4nJf"
      }
    },
    {
      "cell_type": "code",
      "source": [
        "# Calcular a contagem de cada tipo\n",
        "contagem_tipos = df['rotulo'].value_counts()\n",
        "\n",
        "sns.set(style=\"darkgrid\")\n",
        "plt.figure(figsize=(6, 6))\n",
        "plt.pie(contagem_tipos, labels=contagem_tipos.index, autopct='%1.1f%%', startangle=140)\n",
        "plt.title('Distribuição por classe')\n",
        "plt.axis('equal')  # Isso garante que o gráfico seja circular\n",
        "plt.show()"
      ],
      "metadata": {
        "colab": {
          "base_uri": "https://localhost:8080/",
          "height": 521
        },
        "id": "R7E3HTy_30Fd",
        "outputId": "8179a878-e447-435a-c3c9-ad66e67baec2"
      },
      "execution_count": null,
      "outputs": [
        {
          "output_type": "display_data",
          "data": {
            "text/plain": [
              "<Figure size 600x600 with 1 Axes>"
            ],
            "image/png": "[encoded data removed]"
          },
          "metadata": {}
        }
      ]
    },
    {
      "cell_type": "code",
      "source": [
        "sns.set(style=\"darkgrid\")\n",
        "ax = sns.countplot(data=df, x='tipo_documento')\n",
        "ax.set_ylabel(\"Quantidade\")\n",
        "ax.set_xlabel(\"Tipo de documento\")\n",
        "\n",
        "plt.show()"
      ],
      "metadata": {
        "colab": {
          "base_uri": "https://localhost:8080/",
          "height": 459
        },
        "id": "5LqQHcYVp2jY",
        "outputId": "97c58251-bd78-4b3d-cc38-f3d4147feacd"
      },
      "execution_count": null,
      "outputs": [
        {
          "output_type": "display_data",
          "data": {
            "text/plain": [
              "<Figure size 640x480 with 1 Axes>"
            ],
            "image/png": "[encoded data removed]"
          },
          "metadata": {}
        }
      ]
    },
    {
      "cell_type": "markdown",
      "source": [
        "- Gerando um gráfico de *Pizza*"
      ],
      "metadata": {
        "id": "XjRtw3zf4tvF"
      }
    },
    {
      "cell_type": "code",
      "source": [
        "# Calcular a contagem de cada tipo\n",
        "contagem_tipos = df['tipo_documento'].value_counts()\n",
        "\n",
        "sns.set(style=\"darkgrid\")\n",
        "plt.figure(figsize=(6, 6))\n",
        "plt.pie(contagem_tipos, labels=contagem_tipos.index, autopct='%1.1f%%', startangle=140)\n",
        "plt.title('Distribuição por Tipo de Documento')\n",
        "plt.axis('equal')  # Isso garante que o gráfico seja circular\n",
        "plt.show()"
      ],
      "metadata": {
        "colab": {
          "base_uri": "https://localhost:8080/",
          "height": 530
        },
        "id": "y5KCrl0B4uz-",
        "outputId": "d1afbd65-6057-491e-8278-7f5d38daa89d"
      },
      "execution_count": null,
      "outputs": [
        {
          "output_type": "display_data",
          "data": {
            "text/plain": [
              "<Figure size 600x600 with 1 Axes>"
            ],
            "image/png": "[encoded data removed]"
          },
          "metadata": {}
        }
      ]
    },
    {
      "cell_type": "markdown",
      "source": [
        "## Alterando resumo"
      ],
      "metadata": {
        "id": "fjLoePxSgvqq"
      }
    },
    {
      "cell_type": "code",
      "source": [
        "df.head(2)"
      ],
      "metadata": {
        "colab": {
          "base_uri": "https://localhost:8080/",
          "height": 233
        },
        "id": "1Cctjr8AhiFX",
        "outputId": "5391bb0c-d52f-438e-daf5-b0f606507c55"
      },
      "execution_count": null,
      "outputs": [
        {
          "output_type": "execute_result",
          "data": {
            "text/plain": [
              "    id                                             titulo  \\\n",
              "0  133  uma arquitetura para sistemas micropipeline de...   \n",
              "1  152   identificação de embarcações em imagens de ra...   \n",
              "\n",
              "                                               autor  \\\n",
              "0  duarte l. oliveira, kledermon garcia, roberto ...   \n",
              "1                                          gamba, s.   \n",
              "\n",
              "                                                 url      tipo_documento  \\\n",
              "0  https://www.sige.ita.br/edicoes-anteriores/201...  Artigo de Simpósio   \n",
              "1  https://www.sige.ita.br/edicoes-anteriores/201...  Artigo de Simpósio   \n",
              "\n",
              "   rotulo                                             resumo  \\\n",
              "0       1  O paradigma assíncrono possui características ...   \n",
              "1       1  O objetivo deste trabalho é identificar embarc...   \n",
              "\n",
              "                                               texto  caracteres  palavras  \n",
              "0  I. INTRODUÇÃO Sistemas digitais embarcados req...       11583      1746  \n",
              "1    I. INTRODUÇÃO No Brasil, o transporte maríti...       16305      2408  "
            ],
            "text/html": [
              "\n",
              "  <div id=\"df-0a68efc6-3eb4-4692-8626-f825cf4e27a5\" class=\"colab-df-container\">\n",
              "    <div>\n",
              "<style scoped>\n",
              "    .dataframe tbody tr th:only-of-type {\n",
              "        vertical-align: middle;\n",
              "    }\n",
              "\n",
              "    .dataframe tbody tr th {\n",
              "        vertical-align: top;\n",
              "    }\n",
              "\n",
              "    .dataframe thead th {\n",
              "        text-align: right;\n",
              "    }\n",
              "</style>\n",
              "<table border=\"1\" class=\"dataframe\">\n",
              "  <thead>\n",
              "    <tr style=\"text-align: right;\">\n",
              "      <th></th>\n",
              "      <th>id</th>\n",
              "      <th>titulo</th>\n",
              "      <th>autor</th>\n",
              "      <th>url</th>\n",
              "      <th>tipo_documento</th>\n",
              "      <th>rotulo</th>\n",
              "      <th>resumo</th>\n",
              "      <th>texto</th>\n",
              "      <th>caracteres</th>\n",
              "      <th>palavras</th>\n",
              "    </tr>\n",
              "  </thead>\n",
              "  <tbody>\n",
              "    <tr>\n",
              "      <th>0</th>\n",
              "      <td>133</td>\n",
              "      <td>uma arquitetura para sistemas micropipeline de...</td>\n",
              "      <td>duarte l. oliveira, kledermon garcia, roberto ...</td>\n",
              "      <td>https://www.sige.ita.br/edicoes-anteriores/201...</td>\n",
              "      <td>Artigo de Simpósio</td>\n",
              "      <td>1</td>\n",
              "      <td>O paradigma assíncrono possui características ...</td>\n",
              "      <td>I. INTRODUÇÃO Sistemas digitais embarcados req...</td>\n",
              "      <td>11583</td>\n",
              "      <td>1746</td>\n",
              "    </tr>\n",
              "    <tr>\n",
              "      <th>1</th>\n",
              "      <td>152</td>\n",
              "      <td>identificação de embarcações em imagens de ra...</td>\n",
              "      <td>gamba, s.</td>\n",
              "      <td>https://www.sige.ita.br/edicoes-anteriores/201...</td>\n",
              "      <td>Artigo de Simpósio</td>\n",
              "      <td>1</td>\n",
              "      <td>O objetivo deste trabalho é identificar embarc...</td>\n",
              "      <td>I. INTRODUÇÃO No Brasil, o transporte maríti...</td>\n",
              "      <td>16305</td>\n",
              "      <td>2408</td>\n",
              "    </tr>\n",
              "  </tbody>\n",
              "</table>\n",
              "</div>\n",
              "    <div class=\"colab-df-buttons\">\n",
              "\n",
              "  <div class=\"colab-df-container\">\n",
              "    <button class=\"colab-df-convert\" onclick=\"convertToInteractive('df-0a68efc6-3eb4-4692-8626-f825cf4e27a5')\"\n",
              "            title=\"Convert this dataframe to an interactive table.\"\n",
              "            style=\"display:none;\">\n",
              "\n",
              "  <svg xmlns=\"http://www.w3.org/2000/svg\" height=\"24px\" viewBox=\"0 -960 960 960\">\n",
              "    <path d=\"M120-120v-720h720v720H120Zm60-500h600v-160H180v160Zm220 220h160v-160H400v160Zm0 220h160v-160H400v160ZM180-400h160v-160H180v160Zm440 0h160v-160H620v160ZM180-180h160v-160H180v160Zm440 0h160v-160H620v160Z\"/>\n",
              "  </svg>\n",
              "    </button>\n",
              "\n",
              "  <style>\n",
              "    .colab-df-container {\n",
              "      display:flex;\n",
              "      gap: 12px;\n",
              "    }\n",
              "\n",
              "    .colab-df-convert {\n",
              "      background-color: #E8F0FE;\n",
              "      border: none;\n",
              "      border-radius: 50%;\n",
              "      cursor: pointer;\n",
              "      display: none;\n",
              "      fill: #1967D2;\n",
              "      height: 32px;\n",
              "      padding: 0 0 0 0;\n",
              "      width: 32px;\n",
              "    }\n",
              "\n",
              "    .colab-df-convert:hover {\n",
              "      background-color: #E2EBFA;\n",
              "      box-shadow: 0px 1px 2px rgba(60, 64, 67, 0.3), 0px 1px 3px 1px rgba(60, 64, 67, 0.15);\n",
              "      fill: #174EA6;\n",
              "    }\n",
              "\n",
              "    .colab-df-buttons div {\n",
              "      margin-bottom: 4px;\n",
              "    }\n",
              "\n",
              "    [theme=dark] .colab-df-convert {\n",
              "      background-color: #3B4455;\n",
              "      fill: #D2E3FC;\n",
              "    }\n",
              "\n",
              "    [theme=dark] .colab-df-convert:hover {\n",
              "      background-color: #434B5C;\n",
              "      box-shadow: 0px 1px 3px 1px rgba(0, 0, 0, 0.15);\n",
              "      filter: drop-shadow(0px 1px 2px rgba(0, 0, 0, 0.3));\n",
              "      fill: #FFFFFF;\n",
              "    }\n",
              "  </style>\n",
              "\n",
              "    <script>\n",
              "      const buttonEl =\n",
              "        document.querySelector('#df-0a68efc6-3eb4-4692-8626-f825cf4e27a5 button.colab-df-convert');\n",
              "      buttonEl.style.display =\n",
              "        google.colab.kernel.accessAllowed ? 'block' : 'none';\n",
              "\n",
              "      async function convertToInteractive(key) {\n",
              "        const element = document.querySelector('#df-0a68efc6-3eb4-4692-8626-f825cf4e27a5');\n",
              "        const dataTable =\n",
              "          await google.colab.kernel.invokeFunction('convertToInteractive',\n",
              "                                                    [key], {});\n",
              "        if (!dataTable) return;\n",
              "\n",
              "        const docLinkHtml = 'Like what you see? Visit the ' +\n",
              "          '<a target=\"_blank\" href=https://colab.research.google.com/notebooks/data_table.ipynb>data table notebook</a>'\n",
              "          + ' to learn more about interactive tables.';\n",
              "        element.innerHTML = '';\n",
              "        dataTable['output_type'] = 'display_data';\n",
              "        await google.colab.output.renderOutput(dataTable, element);\n",
              "        const docLink = document.createElement('div');\n",
              "        docLink.innerHTML = docLinkHtml;\n",
              "        element.appendChild(docLink);\n",
              "      }\n",
              "    </script>\n",
              "  </div>\n",
              "\n",
              "\n",
              "<div id=\"df-93a489ae-3dd9-4318-b056-90d140e859cd\">\n",
              "  <button class=\"colab-df-quickchart\" onclick=\"quickchart('df-93a489ae-3dd9-4318-b056-90d140e859cd')\"\n",
              "            title=\"Suggest charts.\"\n",
              "            style=\"display:none;\">\n",
              "\n",
              "<svg xmlns=\"http://www.w3.org/2000/svg\" height=\"24px\"viewBox=\"0 0 24 24\"\n",
              "     width=\"24px\">\n",
              "    <g>\n",
              "        <path d=\"M19 3H5c-1.1 0-2 .9-2 2v14c0 1.1.9 2 2 2h14c1.1 0 2-.9 2-2V5c0-1.1-.9-2-2-2zM9 17H7v-7h2v7zm4 0h-2V7h2v10zm4 0h-2v-4h2v4z\"/>\n",
              "    </g>\n",
              "</svg>\n",
              "  </button>\n",
              "\n",
              "<style>\n",
              "  .colab-df-quickchart {\n",
              "      --bg-color: #E8F0FE;\n",
              "      --fill-color: #1967D2;\n",
              "      --hover-bg-color: #E2EBFA;\n",
              "      --hover-fill-color: #174EA6;\n",
              "      --disabled-fill-color: #AAA;\n",
              "      --disabled-bg-color: #DDD;\n",
              "  }\n",
              "\n",
              "  [theme=dark] .colab-df-quickchart {\n",
              "      --bg-color: #3B4455;\n",
              "      --fill-color: #D2E3FC;\n",
              "      --hover-bg-color: #434B5C;\n",
              "      --hover-fill-color: #FFFFFF;\n",
              "      --disabled-bg-color: #3B4455;\n",
              "      --disabled-fill-color: #666;\n",
              "  }\n",
              "\n",
              "  .colab-df-quickchart {\n",
              "    background-color: var(--bg-color);\n",
              "    border: none;\n",
              "    border-radius: 50%;\n",
              "    cursor: pointer;\n",
              "    display: none;\n",
              "    fill: var(--fill-color);\n",
              "    height: 32px;\n",
              "    padding: 0;\n",
              "    width: 32px;\n",
              "  }\n",
              "\n",
              "  .colab-df-quickchart:hover {\n",
              "    background-color: var(--hover-bg-color);\n",
              "    box-shadow: 0 1px 2px rgba(60, 64, 67, 0.3), 0 1px 3px 1px rgba(60, 64, 67, 0.15);\n",
              "    fill: var(--button-hover-fill-color);\n",
              "  }\n",
              "\n",
              "  .colab-df-quickchart-complete:disabled,\n",
              "  .colab-df-quickchart-complete:disabled:hover {\n",
              "    background-color: var(--disabled-bg-color);\n",
              "    fill: var(--disabled-fill-color);\n",
              "    box-shadow: none;\n",
              "  }\n",
              "\n",
              "  .colab-df-spinner {\n",
              "    border: 2px solid var(--fill-color);\n",
              "    border-color: transparent;\n",
              "    border-bottom-color: var(--fill-color);\n",
              "    animation:\n",
              "      spin 1s steps(1) infinite;\n",
              "  }\n",
              "\n",
              "  @keyframes spin {\n",
              "    0% {\n",
              "      border-color: transparent;\n",
              "      border-bottom-color: var(--fill-color);\n",
              "      border-left-color: var(--fill-color);\n",
              "    }\n",
              "    20% {\n",
              "      border-color: transparent;\n",
              "      border-left-color: var(--fill-color);\n",
              "      border-top-color: var(--fill-color);\n",
              "    }\n",
              "    30% {\n",
              "      border-color: transparent;\n",
              "      border-left-color: var(--fill-color);\n",
              "      border-top-color: var(--fill-color);\n",
              "      border-right-color: var(--fill-color);\n",
              "    }\n",
              "    40% {\n",
              "      border-color: transparent;\n",
              "      border-right-color: var(--fill-color);\n",
              "      border-top-color: var(--fill-color);\n",
              "    }\n",
              "    60% {\n",
              "      border-color: transparent;\n",
              "      border-right-color: var(--fill-color);\n",
              "    }\n",
              "    80% {\n",
              "      border-color: transparent;\n",
              "      border-right-color: var(--fill-color);\n",
              "      border-bottom-color: var(--fill-color);\n",
              "    }\n",
              "    90% {\n",
              "      border-color: transparent;\n",
              "      border-bottom-color: var(--fill-color);\n",
              "    }\n",
              "  }\n",
              "</style>\n",
              "\n",
              "  <script>\n",
              "    async function quickchart(key) {\n",
              "      const quickchartButtonEl =\n",
              "        document.querySelector('#' + key + ' button');\n",
              "      quickchartButtonEl.disabled = true;  // To prevent multiple clicks.\n",
              "      quickchartButtonEl.classList.add('colab-df-spinner');\n",
              "      try {\n",
              "        const charts = await google.colab.kernel.invokeFunction(\n",
              "            'suggestCharts', [key], {});\n",
              "      } catch (error) {\n",
              "        console.error('Error during call to suggestCharts:', error);\n",
              "      }\n",
              "      quickchartButtonEl.classList.remove('colab-df-spinner');\n",
              "      quickchartButtonEl.classList.add('colab-df-quickchart-complete');\n",
              "    }\n",
              "    (() => {\n",
              "      let quickchartButtonEl =\n",
              "        document.querySelector('#df-93a489ae-3dd9-4318-b056-90d140e859cd button');\n",
              "      quickchartButtonEl.style.display =\n",
              "        google.colab.kernel.accessAllowed ? 'block' : 'none';\n",
              "    })();\n",
              "  </script>\n",
              "</div>\n",
              "    </div>\n",
              "  </div>\n"
            ]
          },
          "metadata": {},
          "execution_count": 34
        }
      ]
    },
    {
      "cell_type": "markdown",
      "source": [
        "- Para os documentos sem resumo, iremos assumnir que `resumo = texto`"
      ],
      "metadata": {
        "id": "ktzAECEagyCI"
      }
    },
    {
      "cell_type": "code",
      "source": [
        "# Função para contar caracteres e adicionar a nova coluna\n",
        "def substituir_resumo_por_texto(df):\n",
        "    for index, row in df.iterrows():\n",
        "        if row['resumo'] == 0:\n",
        "            df.at[index, 'resumo'] = row['texto']\n",
        "    return df"
      ],
      "metadata": {
        "id": "MP8eXNBWhE6Y"
      },
      "execution_count": null,
      "outputs": []
    },
    {
      "cell_type": "code",
      "source": [
        "df = substituir_resumo_por_texto(df)"
      ],
      "metadata": {
        "id": "YSth6fFsix7h"
      },
      "execution_count": null,
      "outputs": []
    },
    {
      "cell_type": "code",
      "source": [
        "df"
      ],
      "metadata": {
        "colab": {
          "base_uri": "https://localhost:8080/",
          "height": 1000
        },
        "id": "CFuxRlFljncH",
        "outputId": "199ce149-9e40-468f-e7de-1a9e60f9dad6"
      },
      "execution_count": null,
      "outputs": [
        {
          "output_type": "execute_result",
          "data": {
            "text/plain": [
              "      id                                             titulo  \\\n",
              "0    133  uma arquitetura para sistemas micropipeline de...   \n",
              "1    152   identificação de embarcações em imagens de ra...   \n",
              "2     86  simulação da redução dos efeitos da dispersão ...   \n",
              "3    127  tecnologias para comunicações militares: análi...   \n",
              "4    108  síntese de contadores síncronos de alta latênc...   \n",
              "..   ...                                                ...   \n",
              "163   88  estudo dos efeitos de dircm em mísseis infrave...   \n",
              "164   31  centro de avaliações do exército finaliza test...   \n",
              "165  142  planejamento de trajetória de múltiplos robôs ...   \n",
              "166   13  centro de avaliações do exército inicia avalia...   \n",
              "167   72  desenvolvimento de biossensor para detecção de...   \n",
              "\n",
              "                                                 autor  \\\n",
              "0    duarte l. oliveira, kledermon garcia, roberto ...   \n",
              "1                                            gamba, s.   \n",
              "2    Rogerio Barbosa Marques, Joaquim José Barroso ...   \n",
              "3    alessandro roberto dos santos e josé edimar ba...   \n",
              "4    duarte l. oliveira, tiago curtinhas, lester a....   \n",
              "..                                                 ...   \n",
              "163  caio augusto de melo silvestre, lester de abre...   \n",
              "164                             Noticiário do Exército   \n",
              "165  johnathan fercher da rosa, paulo fernando ferr...   \n",
              "166                             Noticiário do Exército   \n",
              "167  nadja fernanda gonzaga serrano, ivan perazzoli...   \n",
              "\n",
              "                                                   url      tipo_documento  \\\n",
              "0    https://www.sige.ita.br/edicoes-anteriores/201...  Artigo de Simpósio   \n",
              "1    https://www.sige.ita.br/edicoes-anteriores/201...  Artigo de Simpósio   \n",
              "2    https://www.sige.ita.br/edicoes-anteriores/201...  Artigo de Simpósio   \n",
              "3    https://www.sige.ita.br/edicoes-anteriores/201...  Artigo de Simpósio   \n",
              "4    https://www.sige.ita.br/edicoes-anteriores/201...  Artigo de Simpósio   \n",
              "..                                                 ...                 ...   \n",
              "163  https://www.sige.ita.br/edicoes-anteriores/201...  Artigo de Simpósio   \n",
              "164  https://www.eb.mil.br/web/noticias/noticiario-...             Notícia   \n",
              "165  http://www.ebrevistas.eb.mil.br/CT/article/vie...   Artigo de Revista   \n",
              "166  https://www.eb.mil.br/web/noticias/noticiario-...             Notícia   \n",
              "167  https://www.sige.ita.br/edicoes-anteriores/201...  Artigo de Simpósio   \n",
              "\n",
              "     rotulo                                             resumo  \\\n",
              "0         1  O paradigma assíncrono possui características ...   \n",
              "1         1  O objetivo deste trabalho é identificar embarc...   \n",
              "2         1  Os enlaces ópticos possibilitam a transmissão ...   \n",
              "3         1  Este trabalho enfatiza a necessidade de novas ...   \n",
              "4         1  A memória da parte sequencial de um sistema di...   \n",
              "..      ...                                                ...   \n",
              "163       1  O crescente emprego de mísseis de ombro infrav...   \n",
              "164       3  Rio de Janeiro (RJ) – O Centro de Avaliações d...   \n",
              "165       2   Este artigo demonstra uma abordagem para trat...   \n",
              "166       3  Rio de Janeiro (RJ) – O Centro de Avaliações d...   \n",
              "167       2  A rápida e segura identificação e classificaçã...   \n",
              "\n",
              "                                                 texto  caracteres  palavras  \n",
              "0    I. INTRODUÇÃO Sistemas digitais embarcados req...       11583      1746  \n",
              "1      I. INTRODUÇÃO No Brasil, o transporte maríti...       16305      2408  \n",
              "2     I. INTRODUÇÃO A Força Aérea Brasileira possui...       14004      2298  \n",
              "3     I. INTRODUÇÃO A necessidade de implantação em...       18274      2904  \n",
              "4     I. INTRODUÇÃO A fase corrente da microeletrôn...       15360      2479  \n",
              "..                                                 ...         ...       ...  \n",
              "163   Mísseis Infravermelhos, especialmente os do t...       17320      2763  \n",
              "164  Rio de Janeiro (RJ) – O Centro de Avaliações d...        2585       414  \n",
              "165   1. Introdução A robótica vem evoluindo muito ...       25614      4081  \n",
              "166  Rio de Janeiro (RJ) – O Centro de Avaliações d...        1443       231  \n",
              "167   I. INTRODUÇÃO Guias de onda retangulares têm ...       13816      2335  \n",
              "\n",
              "[168 rows x 10 columns]"
            ],
            "text/html": [
              "\n",
              "  <div id=\"df-02295277-816a-4506-9601-807cb3de8636\" class=\"colab-df-container\">\n",
              "    <div>\n",
              "<style scoped>\n",
              "    .dataframe tbody tr th:only-of-type {\n",
              "        vertical-align: middle;\n",
              "    }\n",
              "\n",
              "    .dataframe tbody tr th {\n",
              "        vertical-align: top;\n",
              "    }\n",
              "\n",
              "    .dataframe thead th {\n",
              "        text-align: right;\n",
              "    }\n",
              "</style>\n",
              "<table border=\"1\" class=\"dataframe\">\n",
              "  <thead>\n",
              "    <tr style=\"text-align: right;\">\n",
              "      <th></th>\n",
              "      <th>id</th>\n",
              "      <th>titulo</th>\n",
              "      <th>autor</th>\n",
              "      <th>url</th>\n",
              "      <th>tipo_documento</th>\n",
              "      <th>rotulo</th>\n",
              "      <th>resumo</th>\n",
              "      <th>texto</th>\n",
              "      <th>caracteres</th>\n",
              "      <th>palavras</th>\n",
              "    </tr>\n",
              "  </thead>\n",
              "  <tbody>\n",
              "    <tr>\n",
              "      <th>0</th>\n",
              "      <td>133</td>\n",
              "      <td>uma arquitetura para sistemas micropipeline de...</td>\n",
              "      <td>duarte l. oliveira, kledermon garcia, roberto ...</td>\n",
              "      <td>https://www.sige.ita.br/edicoes-anteriores/201...</td>\n",
              "      <td>Artigo de Simpósio</td>\n",
              "      <td>1</td>\n",
              "      <td>O paradigma assíncrono possui características ...</td>\n",
              "      <td>I. INTRODUÇÃO Sistemas digitais embarcados req...</td>\n",
              "      <td>11583</td>\n",
              "      <td>1746</td>\n",
              "    </tr>\n",
              "    <tr>\n",
              "      <th>1</th>\n",
              "      <td>152</td>\n",
              "      <td>identificação de embarcações em imagens de ra...</td>\n",
              "      <td>gamba, s.</td>\n",
              "      <td>https://www.sige.ita.br/edicoes-anteriores/201...</td>\n",
              "      <td>Artigo de Simpósio</td>\n",
              "      <td>1</td>\n",
              "      <td>O objetivo deste trabalho é identificar embarc...</td>\n",
              "      <td>I. INTRODUÇÃO No Brasil, o transporte maríti...</td>\n",
              "      <td>16305</td>\n",
              "      <td>2408</td>\n",
              "    </tr>\n",
              "    <tr>\n",
              "      <th>2</th>\n",
              "      <td>86</td>\n",
              "      <td>simulação da redução dos efeitos da dispersão ...</td>\n",
              "      <td>Rogerio Barbosa Marques, Joaquim José Barroso ...</td>\n",
              "      <td>https://www.sige.ita.br/edicoes-anteriores/201...</td>\n",
              "      <td>Artigo de Simpósio</td>\n",
              "      <td>1</td>\n",
              "      <td>Os enlaces ópticos possibilitam a transmissão ...</td>\n",
              "      <td>I. INTRODUÇÃO A Força Aérea Brasileira possui...</td>\n",
              "      <td>14004</td>\n",
              "      <td>2298</td>\n",
              "    </tr>\n",
              "    <tr>\n",
              "      <th>3</th>\n",
              "      <td>127</td>\n",
              "      <td>tecnologias para comunicações militares: análi...</td>\n",
              "      <td>alessandro roberto dos santos e josé edimar ba...</td>\n",
              "      <td>https://www.sige.ita.br/edicoes-anteriores/201...</td>\n",
              "      <td>Artigo de Simpósio</td>\n",
              "      <td>1</td>\n",
              "      <td>Este trabalho enfatiza a necessidade de novas ...</td>\n",
              "      <td>I. INTRODUÇÃO A necessidade de implantação em...</td>\n",
              "      <td>18274</td>\n",
              "      <td>2904</td>\n",
              "    </tr>\n",
              "    <tr>\n",
              "      <th>4</th>\n",
              "      <td>108</td>\n",
              "      <td>síntese de contadores síncronos de alta latênc...</td>\n",
              "      <td>duarte l. oliveira, tiago curtinhas, lester a....</td>\n",
              "      <td>https://www.sige.ita.br/edicoes-anteriores/201...</td>\n",
              "      <td>Artigo de Simpósio</td>\n",
              "      <td>1</td>\n",
              "      <td>A memória da parte sequencial de um sistema di...</td>\n",
              "      <td>I. INTRODUÇÃO A fase corrente da microeletrôn...</td>\n",
              "      <td>15360</td>\n",
              "      <td>2479</td>\n",
              "    </tr>\n",
              "    <tr>\n",
              "      <th>...</th>\n",
              "      <td>...</td>\n",
              "      <td>...</td>\n",
              "      <td>...</td>\n",
              "      <td>...</td>\n",
              "      <td>...</td>\n",
              "      <td>...</td>\n",
              "      <td>...</td>\n",
              "      <td>...</td>\n",
              "      <td>...</td>\n",
              "      <td>...</td>\n",
              "    </tr>\n",
              "    <tr>\n",
              "      <th>163</th>\n",
              "      <td>88</td>\n",
              "      <td>estudo dos efeitos de dircm em mísseis infrave...</td>\n",
              "      <td>caio augusto de melo silvestre, lester de abre...</td>\n",
              "      <td>https://www.sige.ita.br/edicoes-anteriores/201...</td>\n",
              "      <td>Artigo de Simpósio</td>\n",
              "      <td>1</td>\n",
              "      <td>O crescente emprego de mísseis de ombro infrav...</td>\n",
              "      <td>Mísseis Infravermelhos, especialmente os do t...</td>\n",
              "      <td>17320</td>\n",
              "      <td>2763</td>\n",
              "    </tr>\n",
              "    <tr>\n",
              "      <th>164</th>\n",
              "      <td>31</td>\n",
              "      <td>centro de avaliações do exército finaliza test...</td>\n",
              "      <td>Noticiário do Exército</td>\n",
              "      <td>https://www.eb.mil.br/web/noticias/noticiario-...</td>\n",
              "      <td>Notícia</td>\n",
              "      <td>3</td>\n",
              "      <td>Rio de Janeiro (RJ) – O Centro de Avaliações d...</td>\n",
              "      <td>Rio de Janeiro (RJ) – O Centro de Avaliações d...</td>\n",
              "      <td>2585</td>\n",
              "      <td>414</td>\n",
              "    </tr>\n",
              "    <tr>\n",
              "      <th>165</th>\n",
              "      <td>142</td>\n",
              "      <td>planejamento de trajetória de múltiplos robôs ...</td>\n",
              "      <td>johnathan fercher da rosa, paulo fernando ferr...</td>\n",
              "      <td>http://www.ebrevistas.eb.mil.br/CT/article/vie...</td>\n",
              "      <td>Artigo de Revista</td>\n",
              "      <td>2</td>\n",
              "      <td>Este artigo demonstra uma abordagem para trat...</td>\n",
              "      <td>1. Introdução A robótica vem evoluindo muito ...</td>\n",
              "      <td>25614</td>\n",
              "      <td>4081</td>\n",
              "    </tr>\n",
              "    <tr>\n",
              "      <th>166</th>\n",
              "      <td>13</td>\n",
              "      <td>centro de avaliações do exército inicia avalia...</td>\n",
              "      <td>Noticiário do Exército</td>\n",
              "      <td>https://www.eb.mil.br/web/noticias/noticiario-...</td>\n",
              "      <td>Notícia</td>\n",
              "      <td>3</td>\n",
              "      <td>Rio de Janeiro (RJ) – O Centro de Avaliações d...</td>\n",
              "      <td>Rio de Janeiro (RJ) – O Centro de Avaliações d...</td>\n",
              "      <td>1443</td>\n",
              "      <td>231</td>\n",
              "    </tr>\n",
              "    <tr>\n",
              "      <th>167</th>\n",
              "      <td>72</td>\n",
              "      <td>desenvolvimento de biossensor para detecção de...</td>\n",
              "      <td>nadja fernanda gonzaga serrano, ivan perazzoli...</td>\n",
              "      <td>https://www.sige.ita.br/edicoes-anteriores/201...</td>\n",
              "      <td>Artigo de Simpósio</td>\n",
              "      <td>2</td>\n",
              "      <td>A rápida e segura identificação e classificaçã...</td>\n",
              "      <td>I. INTRODUÇÃO Guias de onda retangulares têm ...</td>\n",
              "      <td>13816</td>\n",
              "      <td>2335</td>\n",
              "    </tr>\n",
              "  </tbody>\n",
              "</table>\n",
              "<p>168 rows × 10 columns</p>\n",
              "</div>\n",
              "    <div class=\"colab-df-buttons\">\n",
              "\n",
              "  <div class=\"colab-df-container\">\n",
              "    <button class=\"colab-df-convert\" onclick=\"convertToInteractive('df-02295277-816a-4506-9601-807cb3de8636')\"\n",
              "            title=\"Convert this dataframe to an interactive table.\"\n",
              "            style=\"display:none;\">\n",
              "\n",
              "  <svg xmlns=\"http://www.w3.org/2000/svg\" height=\"24px\" viewBox=\"0 -960 960 960\">\n",
              "    <path d=\"M120-120v-720h720v720H120Zm60-500h600v-160H180v160Zm220 220h160v-160H400v160Zm0 220h160v-160H400v160ZM180-400h160v-160H180v160Zm440 0h160v-160H620v160ZM180-180h160v-160H180v160Zm440 0h160v-160H620v160Z\"/>\n",
              "  </svg>\n",
              "    </button>\n",
              "\n",
              "  <style>\n",
              "    .colab-df-container {\n",
              "      display:flex;\n",
              "      gap: 12px;\n",
              "    }\n",
              "\n",
              "    .colab-df-convert {\n",
              "      background-color: #E8F0FE;\n",
              "      border: none;\n",
              "      border-radius: 50%;\n",
              "      cursor: pointer;\n",
              "      display: none;\n",
              "      fill: #1967D2;\n",
              "      height: 32px;\n",
              "      padding: 0 0 0 0;\n",
              "      width: 32px;\n",
              "    }\n",
              "\n",
              "    .colab-df-convert:hover {\n",
              "      background-color: #E2EBFA;\n",
              "      box-shadow: 0px 1px 2px rgba(60, 64, 67, 0.3), 0px 1px 3px 1px rgba(60, 64, 67, 0.15);\n",
              "      fill: #174EA6;\n",
              "    }\n",
              "\n",
              "    .colab-df-buttons div {\n",
              "      margin-bottom: 4px;\n",
              "    }\n",
              "\n",
              "    [theme=dark] .colab-df-convert {\n",
              "      background-color: #3B4455;\n",
              "      fill: #D2E3FC;\n",
              "    }\n",
              "\n",
              "    [theme=dark] .colab-df-convert:hover {\n",
              "      background-color: #434B5C;\n",
              "      box-shadow: 0px 1px 3px 1px rgba(0, 0, 0, 0.15);\n",
              "      filter: drop-shadow(0px 1px 2px rgba(0, 0, 0, 0.3));\n",
              "      fill: #FFFFFF;\n",
              "    }\n",
              "  </style>\n",
              "\n",
              "    <script>\n",
              "      const buttonEl =\n",
              "        document.querySelector('#df-02295277-816a-4506-9601-807cb3de8636 button.colab-df-convert');\n",
              "      buttonEl.style.display =\n",
              "        google.colab.kernel.accessAllowed ? 'block' : 'none';\n",
              "\n",
              "      async function convertToInteractive(key) {\n",
              "        const element = document.querySelector('#df-02295277-816a-4506-9601-807cb3de8636');\n",
              "        const dataTable =\n",
              "          await google.colab.kernel.invokeFunction('convertToInteractive',\n",
              "                                                    [key], {});\n",
              "        if (!dataTable) return;\n",
              "\n",
              "        const docLinkHtml = 'Like what you see? Visit the ' +\n",
              "          '<a target=\"_blank\" href=https://colab.research.google.com/notebooks/data_table.ipynb>data table notebook</a>'\n",
              "          + ' to learn more about interactive tables.';\n",
              "        element.innerHTML = '';\n",
              "        dataTable['output_type'] = 'display_data';\n",
              "        await google.colab.output.renderOutput(dataTable, element);\n",
              "        const docLink = document.createElement('div');\n",
              "        docLink.innerHTML = docLinkHtml;\n",
              "        element.appendChild(docLink);\n",
              "      }\n",
              "    </script>\n",
              "  </div>\n",
              "\n",
              "\n",
              "<div id=\"df-a2035909-316d-4cdd-b0d6-3c8a5c084c1b\">\n",
              "  <button class=\"colab-df-quickchart\" onclick=\"quickchart('df-a2035909-316d-4cdd-b0d6-3c8a5c084c1b')\"\n",
              "            title=\"Suggest charts.\"\n",
              "            style=\"display:none;\">\n",
              "\n",
              "<svg xmlns=\"http://www.w3.org/2000/svg\" height=\"24px\"viewBox=\"0 0 24 24\"\n",
              "     width=\"24px\">\n",
              "    <g>\n",
              "        <path d=\"M19 3H5c-1.1 0-2 .9-2 2v14c0 1.1.9 2 2 2h14c1.1 0 2-.9 2-2V5c0-1.1-.9-2-2-2zM9 17H7v-7h2v7zm4 0h-2V7h2v10zm4 0h-2v-4h2v4z\"/>\n",
              "    </g>\n",
              "</svg>\n",
              "  </button>\n",
              "\n",
              "<style>\n",
              "  .colab-df-quickchart {\n",
              "      --bg-color: #E8F0FE;\n",
              "      --fill-color: #1967D2;\n",
              "      --hover-bg-color: #E2EBFA;\n",
              "      --hover-fill-color: #174EA6;\n",
              "      --disabled-fill-color: #AAA;\n",
              "      --disabled-bg-color: #DDD;\n",
              "  }\n",
              "\n",
              "  [theme=dark] .colab-df-quickchart {\n",
              "      --bg-color: #3B4455;\n",
              "      --fill-color: #D2E3FC;\n",
              "      --hover-bg-color: #434B5C;\n",
              "      --hover-fill-color: #FFFFFF;\n",
              "      --disabled-bg-color: #3B4455;\n",
              "      --disabled-fill-color: #666;\n",
              "  }\n",
              "\n",
              "  .colab-df-quickchart {\n",
              "    background-color: var(--bg-color);\n",
              "    border: none;\n",
              "    border-radius: 50%;\n",
              "    cursor: pointer;\n",
              "    display: none;\n",
              "    fill: var(--fill-color);\n",
              "    height: 32px;\n",
              "    padding: 0;\n",
              "    width: 32px;\n",
              "  }\n",
              "\n",
              "  .colab-df-quickchart:hover {\n",
              "    background-color: var(--hover-bg-color);\n",
              "    box-shadow: 0 1px 2px rgba(60, 64, 67, 0.3), 0 1px 3px 1px rgba(60, 64, 67, 0.15);\n",
              "    fill: var(--button-hover-fill-color);\n",
              "  }\n",
              "\n",
              "  .colab-df-quickchart-complete:disabled,\n",
              "  .colab-df-quickchart-complete:disabled:hover {\n",
              "    background-color: var(--disabled-bg-color);\n",
              "    fill: var(--disabled-fill-color);\n",
              "    box-shadow: none;\n",
              "  }\n",
              "\n",
              "  .colab-df-spinner {\n",
              "    border: 2px solid var(--fill-color);\n",
              "    border-color: transparent;\n",
              "    border-bottom-color: var(--fill-color);\n",
              "    animation:\n",
              "      spin 1s steps(1) infinite;\n",
              "  }\n",
              "\n",
              "  @keyframes spin {\n",
              "    0% {\n",
              "      border-color: transparent;\n",
              "      border-bottom-color: var(--fill-color);\n",
              "      border-left-color: var(--fill-color);\n",
              "    }\n",
              "    20% {\n",
              "      border-color: transparent;\n",
              "      border-left-color: var(--fill-color);\n",
              "      border-top-color: var(--fill-color);\n",
              "    }\n",
              "    30% {\n",
              "      border-color: transparent;\n",
              "      border-left-color: var(--fill-color);\n",
              "      border-top-color: var(--fill-color);\n",
              "      border-right-color: var(--fill-color);\n",
              "    }\n",
              "    40% {\n",
              "      border-color: transparent;\n",
              "      border-right-color: var(--fill-color);\n",
              "      border-top-color: var(--fill-color);\n",
              "    }\n",
              "    60% {\n",
              "      border-color: transparent;\n",
              "      border-right-color: var(--fill-color);\n",
              "    }\n",
              "    80% {\n",
              "      border-color: transparent;\n",
              "      border-right-color: var(--fill-color);\n",
              "      border-bottom-color: var(--fill-color);\n",
              "    }\n",
              "    90% {\n",
              "      border-color: transparent;\n",
              "      border-bottom-color: var(--fill-color);\n",
              "    }\n",
              "  }\n",
              "</style>\n",
              "\n",
              "  <script>\n",
              "    async function quickchart(key) {\n",
              "      const quickchartButtonEl =\n",
              "        document.querySelector('#' + key + ' button');\n",
              "      quickchartButtonEl.disabled = true;  // To prevent multiple clicks.\n",
              "      quickchartButtonEl.classList.add('colab-df-spinner');\n",
              "      try {\n",
              "        const charts = await google.colab.kernel.invokeFunction(\n",
              "            'suggestCharts', [key], {});\n",
              "      } catch (error) {\n",
              "        console.error('Error during call to suggestCharts:', error);\n",
              "      }\n",
              "      quickchartButtonEl.classList.remove('colab-df-spinner');\n",
              "      quickchartButtonEl.classList.add('colab-df-quickchart-complete');\n",
              "    }\n",
              "    (() => {\n",
              "      let quickchartButtonEl =\n",
              "        document.querySelector('#df-a2035909-316d-4cdd-b0d6-3c8a5c084c1b button');\n",
              "      quickchartButtonEl.style.display =\n",
              "        google.colab.kernel.accessAllowed ? 'block' : 'none';\n",
              "    })();\n",
              "  </script>\n",
              "</div>\n",
              "    </div>\n",
              "  </div>\n"
            ]
          },
          "metadata": {},
          "execution_count": 44
        }
      ]
    },
    {
      "cell_type": "markdown",
      "source": [
        "## Contando palavras"
      ],
      "metadata": {
        "id": "kHTES0odf8Wn"
      }
    },
    {
      "cell_type": "markdown",
      "source": [
        "### Quantidade de caracteres"
      ],
      "metadata": {
        "id": "2uf2KTSVvn22"
      }
    },
    {
      "cell_type": "code",
      "source": [
        "# Função para contar caracteres e adicionar a nova coluna\n",
        "def contar_caracteres(texto):\n",
        "    return len(texto)"
      ],
      "metadata": {
        "id": "xdmz25ABwr_e"
      },
      "execution_count": null,
      "outputs": []
    },
    {
      "cell_type": "code",
      "source": [
        "df['caracteres'] = df['texto'].apply(contar_caracteres)"
      ],
      "metadata": {
        "id": "ThltVStCsTuG"
      },
      "execution_count": null,
      "outputs": []
    },
    {
      "cell_type": "markdown",
      "source": [
        "### Quantidade de palavras"
      ],
      "metadata": {
        "id": "MNMKzRynxLXf"
      }
    },
    {
      "cell_type": "code",
      "source": [
        "# Função para contar palavras e adicionar a nova coluna\n",
        "def contar_palavras(texto):\n",
        "    palavras = texto.split()  # Divide o texto em palavras usando o carcter espaço\n",
        "    return len(palavras)"
      ],
      "metadata": {
        "id": "i8BiIwIGxOB0"
      },
      "execution_count": null,
      "outputs": []
    },
    {
      "cell_type": "code",
      "source": [
        "df['palavras'] = df['texto'].apply(contar_palavras)"
      ],
      "metadata": {
        "id": "EFGNQyKNxd_X"
      },
      "execution_count": null,
      "outputs": []
    },
    {
      "cell_type": "code",
      "source": [
        "df"
      ],
      "metadata": {
        "colab": {
          "base_uri": "https://localhost:8080/",
          "height": 1000
        },
        "id": "xgzsZQTHwzTl",
        "outputId": "7311ff39-6da6-492c-b5e1-6c1fde2a97d3"
      },
      "execution_count": null,
      "outputs": [
        {
          "output_type": "execute_result",
          "data": {
            "text/plain": [
              "      id                                             titulo  \\\n",
              "0    133  uma arquitetura para sistemas micropipeline de...   \n",
              "1    152   identificação de embarcações em imagens de ra...   \n",
              "2     86  simulação da redução dos efeitos da dispersão ...   \n",
              "3    127  tecnologias para comunicações militares: análi...   \n",
              "4    108  síntese de contadores síncronos de alta latênc...   \n",
              "..   ...                                                ...   \n",
              "163   88  estudo dos efeitos de dircm em mísseis infrave...   \n",
              "164   31  centro de avaliações do exército finaliza test...   \n",
              "165  142  planejamento de trajetória de múltiplos robôs ...   \n",
              "166   13  centro de avaliações do exército inicia avalia...   \n",
              "167   72  desenvolvimento de biossensor para detecção de...   \n",
              "\n",
              "                                                 autor  \\\n",
              "0    duarte l. oliveira, kledermon garcia, roberto ...   \n",
              "1                                            gamba, s.   \n",
              "2    Rogerio Barbosa Marques, Joaquim José Barroso ...   \n",
              "3    alessandro roberto dos santos e josé edimar ba...   \n",
              "4    duarte l. oliveira, tiago curtinhas, lester a....   \n",
              "..                                                 ...   \n",
              "163  caio augusto de melo silvestre, lester de abre...   \n",
              "164                             Noticiário do Exército   \n",
              "165  johnathan fercher da rosa, paulo fernando ferr...   \n",
              "166                             Noticiário do Exército   \n",
              "167  nadja fernanda gonzaga serrano, ivan perazzoli...   \n",
              "\n",
              "                                                   url      tipo_documento  \\\n",
              "0    https://www.sige.ita.br/edicoes-anteriores/201...  Artigo de Simpósio   \n",
              "1    https://www.sige.ita.br/edicoes-anteriores/201...  Artigo de Simpósio   \n",
              "2    https://www.sige.ita.br/edicoes-anteriores/201...  Artigo de Simpósio   \n",
              "3    https://www.sige.ita.br/edicoes-anteriores/201...  Artigo de Simpósio   \n",
              "4    https://www.sige.ita.br/edicoes-anteriores/201...  Artigo de Simpósio   \n",
              "..                                                 ...                 ...   \n",
              "163  https://www.sige.ita.br/edicoes-anteriores/201...  Artigo de Simpósio   \n",
              "164  https://www.eb.mil.br/web/noticias/noticiario-...             Notícia   \n",
              "165  http://www.ebrevistas.eb.mil.br/CT/article/vie...   Artigo de Revista   \n",
              "166  https://www.eb.mil.br/web/noticias/noticiario-...             Notícia   \n",
              "167  https://www.sige.ita.br/edicoes-anteriores/201...  Artigo de Simpósio   \n",
              "\n",
              "     rotulo                                             resumo  \\\n",
              "0         1  O paradigma assíncrono possui características ...   \n",
              "1         1  O objetivo deste trabalho é identificar embarc...   \n",
              "2         1  Os enlaces ópticos possibilitam a transmissão ...   \n",
              "3         1  Este trabalho enfatiza a necessidade de novas ...   \n",
              "4         1  A memória da parte sequencial de um sistema di...   \n",
              "..      ...                                                ...   \n",
              "163       1  O crescente emprego de mísseis de ombro infrav...   \n",
              "164       3  Rio de Janeiro (RJ) – O Centro de Avaliações d...   \n",
              "165       2   Este artigo demonstra uma abordagem para trat...   \n",
              "166       3  Rio de Janeiro (RJ) – O Centro de Avaliações d...   \n",
              "167       2  A rápida e segura identificação e classificaçã...   \n",
              "\n",
              "                                                 texto  caracteres  palavras  \n",
              "0    I. INTRODUÇÃO Sistemas digitais embarcados req...       11583      1746  \n",
              "1      I. INTRODUÇÃO No Brasil, o transporte maríti...       16305      2408  \n",
              "2     I. INTRODUÇÃO A Força Aérea Brasileira possui...       14004      2298  \n",
              "3     I. INTRODUÇÃO A necessidade de implantação em...       18274      2904  \n",
              "4     I. INTRODUÇÃO A fase corrente da microeletrôn...       15360      2479  \n",
              "..                                                 ...         ...       ...  \n",
              "163   Mísseis Infravermelhos, especialmente os do t...       17320      2763  \n",
              "164  Rio de Janeiro (RJ) – O Centro de Avaliações d...        2585       414  \n",
              "165   1. Introdução A robótica vem evoluindo muito ...       25614      4081  \n",
              "166  Rio de Janeiro (RJ) – O Centro de Avaliações d...        1443       231  \n",
              "167   I. INTRODUÇÃO Guias de onda retangulares têm ...       13816      2335  \n",
              "\n",
              "[168 rows x 10 columns]"
            ],
            "text/html": [
              "\n",
              "  <div id=\"df-b782ce10-a78e-4bd7-9eb1-48aa9054b188\" class=\"colab-df-container\">\n",
              "    <div>\n",
              "<style scoped>\n",
              "    .dataframe tbody tr th:only-of-type {\n",
              "        vertical-align: middle;\n",
              "    }\n",
              "\n",
              "    .dataframe tbody tr th {\n",
              "        vertical-align: top;\n",
              "    }\n",
              "\n",
              "    .dataframe thead th {\n",
              "        text-align: right;\n",
              "    }\n",
              "</style>\n",
              "<table border=\"1\" class=\"dataframe\">\n",
              "  <thead>\n",
              "    <tr style=\"text-align: right;\">\n",
              "      <th></th>\n",
              "      <th>id</th>\n",
              "      <th>titulo</th>\n",
              "      <th>autor</th>\n",
              "      <th>url</th>\n",
              "      <th>tipo_documento</th>\n",
              "      <th>rotulo</th>\n",
              "      <th>resumo</th>\n",
              "      <th>texto</th>\n",
              "      <th>caracteres</th>\n",
              "      <th>palavras</th>\n",
              "    </tr>\n",
              "  </thead>\n",
              "  <tbody>\n",
              "    <tr>\n",
              "      <th>0</th>\n",
              "      <td>133</td>\n",
              "      <td>uma arquitetura para sistemas micropipeline de...</td>\n",
              "      <td>duarte l. oliveira, kledermon garcia, roberto ...</td>\n",
              "      <td>https://www.sige.ita.br/edicoes-anteriores/201...</td>\n",
              "      <td>Artigo de Simpósio</td>\n",
              "      <td>1</td>\n",
              "      <td>O paradigma assíncrono possui características ...</td>\n",
              "      <td>I. INTRODUÇÃO Sistemas digitais embarcados req...</td>\n",
              "      <td>11583</td>\n",
              "      <td>1746</td>\n",
              "    </tr>\n",
              "    <tr>\n",
              "      <th>1</th>\n",
              "      <td>152</td>\n",
              "      <td>identificação de embarcações em imagens de ra...</td>\n",
              "      <td>gamba, s.</td>\n",
              "      <td>https://www.sige.ita.br/edicoes-anteriores/201...</td>\n",
              "      <td>Artigo de Simpósio</td>\n",
              "      <td>1</td>\n",
              "      <td>O objetivo deste trabalho é identificar embarc...</td>\n",
              "      <td>I. INTRODUÇÃO No Brasil, o transporte maríti...</td>\n",
              "      <td>16305</td>\n",
              "      <td>2408</td>\n",
              "    </tr>\n",
              "    <tr>\n",
              "      <th>2</th>\n",
              "      <td>86</td>\n",
              "      <td>simulação da redução dos efeitos da dispersão ...</td>\n",
              "      <td>Rogerio Barbosa Marques, Joaquim José Barroso ...</td>\n",
              "      <td>https://www.sige.ita.br/edicoes-anteriores/201...</td>\n",
              "      <td>Artigo de Simpósio</td>\n",
              "      <td>1</td>\n",
              "      <td>Os enlaces ópticos possibilitam a transmissão ...</td>\n",
              "      <td>I. INTRODUÇÃO A Força Aérea Brasileira possui...</td>\n",
              "      <td>14004</td>\n",
              "      <td>2298</td>\n",
              "    </tr>\n",
              "    <tr>\n",
              "      <th>3</th>\n",
              "      <td>127</td>\n",
              "      <td>tecnologias para comunicações militares: análi...</td>\n",
              "      <td>alessandro roberto dos santos e josé edimar ba...</td>\n",
              "      <td>https://www.sige.ita.br/edicoes-anteriores/201...</td>\n",
              "      <td>Artigo de Simpósio</td>\n",
              "      <td>1</td>\n",
              "      <td>Este trabalho enfatiza a necessidade de novas ...</td>\n",
              "      <td>I. INTRODUÇÃO A necessidade de implantação em...</td>\n",
              "      <td>18274</td>\n",
              "      <td>2904</td>\n",
              "    </tr>\n",
              "    <tr>\n",
              "      <th>4</th>\n",
              "      <td>108</td>\n",
              "      <td>síntese de contadores síncronos de alta latênc...</td>\n",
              "      <td>duarte l. oliveira, tiago curtinhas, lester a....</td>\n",
              "      <td>https://www.sige.ita.br/edicoes-anteriores/201...</td>\n",
              "      <td>Artigo de Simpósio</td>\n",
              "      <td>1</td>\n",
              "      <td>A memória da parte sequencial de um sistema di...</td>\n",
              "      <td>I. INTRODUÇÃO A fase corrente da microeletrôn...</td>\n",
              "      <td>15360</td>\n",
              "      <td>2479</td>\n",
              "    </tr>\n",
              "    <tr>\n",
              "      <th>...</th>\n",
              "      <td>...</td>\n",
              "      <td>...</td>\n",
              "      <td>...</td>\n",
              "      <td>...</td>\n",
              "      <td>...</td>\n",
              "      <td>...</td>\n",
              "      <td>...</td>\n",
              "      <td>...</td>\n",
              "      <td>...</td>\n",
              "      <td>...</td>\n",
              "    </tr>\n",
              "    <tr>\n",
              "      <th>163</th>\n",
              "      <td>88</td>\n",
              "      <td>estudo dos efeitos de dircm em mísseis infrave...</td>\n",
              "      <td>caio augusto de melo silvestre, lester de abre...</td>\n",
              "      <td>https://www.sige.ita.br/edicoes-anteriores/201...</td>\n",
              "      <td>Artigo de Simpósio</td>\n",
              "      <td>1</td>\n",
              "      <td>O crescente emprego de mísseis de ombro infrav...</td>\n",
              "      <td>Mísseis Infravermelhos, especialmente os do t...</td>\n",
              "      <td>17320</td>\n",
              "      <td>2763</td>\n",
              "    </tr>\n",
              "    <tr>\n",
              "      <th>164</th>\n",
              "      <td>31</td>\n",
              "      <td>centro de avaliações do exército finaliza test...</td>\n",
              "      <td>Noticiário do Exército</td>\n",
              "      <td>https://www.eb.mil.br/web/noticias/noticiario-...</td>\n",
              "      <td>Notícia</td>\n",
              "      <td>3</td>\n",
              "      <td>Rio de Janeiro (RJ) – O Centro de Avaliações d...</td>\n",
              "      <td>Rio de Janeiro (RJ) – O Centro de Avaliações d...</td>\n",
              "      <td>2585</td>\n",
              "      <td>414</td>\n",
              "    </tr>\n",
              "    <tr>\n",
              "      <th>165</th>\n",
              "      <td>142</td>\n",
              "      <td>planejamento de trajetória de múltiplos robôs ...</td>\n",
              "      <td>johnathan fercher da rosa, paulo fernando ferr...</td>\n",
              "      <td>http://www.ebrevistas.eb.mil.br/CT/article/vie...</td>\n",
              "      <td>Artigo de Revista</td>\n",
              "      <td>2</td>\n",
              "      <td>Este artigo demonstra uma abordagem para trat...</td>\n",
              "      <td>1. Introdução A robótica vem evoluindo muito ...</td>\n",
              "      <td>25614</td>\n",
              "      <td>4081</td>\n",
              "    </tr>\n",
              "    <tr>\n",
              "      <th>166</th>\n",
              "      <td>13</td>\n",
              "      <td>centro de avaliações do exército inicia avalia...</td>\n",
              "      <td>Noticiário do Exército</td>\n",
              "      <td>https://www.eb.mil.br/web/noticias/noticiario-...</td>\n",
              "      <td>Notícia</td>\n",
              "      <td>3</td>\n",
              "      <td>Rio de Janeiro (RJ) – O Centro de Avaliações d...</td>\n",
              "      <td>Rio de Janeiro (RJ) – O Centro de Avaliações d...</td>\n",
              "      <td>1443</td>\n",
              "      <td>231</td>\n",
              "    </tr>\n",
              "    <tr>\n",
              "      <th>167</th>\n",
              "      <td>72</td>\n",
              "      <td>desenvolvimento de biossensor para detecção de...</td>\n",
              "      <td>nadja fernanda gonzaga serrano, ivan perazzoli...</td>\n",
              "      <td>https://www.sige.ita.br/edicoes-anteriores/201...</td>\n",
              "      <td>Artigo de Simpósio</td>\n",
              "      <td>2</td>\n",
              "      <td>A rápida e segura identificação e classificaçã...</td>\n",
              "      <td>I. INTRODUÇÃO Guias de onda retangulares têm ...</td>\n",
              "      <td>13816</td>\n",
              "      <td>2335</td>\n",
              "    </tr>\n",
              "  </tbody>\n",
              "</table>\n",
              "<p>168 rows × 10 columns</p>\n",
              "</div>\n",
              "    <div class=\"colab-df-buttons\">\n",
              "\n",
              "  <div class=\"colab-df-container\">\n",
              "    <button class=\"colab-df-convert\" onclick=\"convertToInteractive('df-b782ce10-a78e-4bd7-9eb1-48aa9054b188')\"\n",
              "            title=\"Convert this dataframe to an interactive table.\"\n",
              "            style=\"display:none;\">\n",
              "\n",
              "  <svg xmlns=\"http://www.w3.org/2000/svg\" height=\"24px\" viewBox=\"0 -960 960 960\">\n",
              "    <path d=\"M120-120v-720h720v720H120Zm60-500h600v-160H180v160Zm220 220h160v-160H400v160Zm0 220h160v-160H400v160ZM180-400h160v-160H180v160Zm440 0h160v-160H620v160ZM180-180h160v-160H180v160Zm440 0h160v-160H620v160Z\"/>\n",
              "  </svg>\n",
              "    </button>\n",
              "\n",
              "  <style>\n",
              "    .colab-df-container {\n",
              "      display:flex;\n",
              "      gap: 12px;\n",
              "    }\n",
              "\n",
              "    .colab-df-convert {\n",
              "      background-color: #E8F0FE;\n",
              "      border: none;\n",
              "      border-radius: 50%;\n",
              "      cursor: pointer;\n",
              "      display: none;\n",
              "      fill: #1967D2;\n",
              "      height: 32px;\n",
              "      padding: 0 0 0 0;\n",
              "      width: 32px;\n",
              "    }\n",
              "\n",
              "    .colab-df-convert:hover {\n",
              "      background-color: #E2EBFA;\n",
              "      box-shadow: 0px 1px 2px rgba(60, 64, 67, 0.3), 0px 1px 3px 1px rgba(60, 64, 67, 0.15);\n",
              "      fill: #174EA6;\n",
              "    }\n",
              "\n",
              "    .colab-df-buttons div {\n",
              "      margin-bottom: 4px;\n",
              "    }\n",
              "\n",
              "    [theme=dark] .colab-df-convert {\n",
              "      background-color: #3B4455;\n",
              "      fill: #D2E3FC;\n",
              "    }\n",
              "\n",
              "    [theme=dark] .colab-df-convert:hover {\n",
              "      background-color: #434B5C;\n",
              "      box-shadow: 0px 1px 3px 1px rgba(0, 0, 0, 0.15);\n",
              "      filter: drop-shadow(0px 1px 2px rgba(0, 0, 0, 0.3));\n",
              "      fill: #FFFFFF;\n",
              "    }\n",
              "  </style>\n",
              "\n",
              "    <script>\n",
              "      const buttonEl =\n",
              "        document.querySelector('#df-b782ce10-a78e-4bd7-9eb1-48aa9054b188 button.colab-df-convert');\n",
              "      buttonEl.style.display =\n",
              "        google.colab.kernel.accessAllowed ? 'block' : 'none';\n",
              "\n",
              "      async function convertToInteractive(key) {\n",
              "        const element = document.querySelector('#df-b782ce10-a78e-4bd7-9eb1-48aa9054b188');\n",
              "        const dataTable =\n",
              "          await google.colab.kernel.invokeFunction('convertToInteractive',\n",
              "                                                    [key], {});\n",
              "        if (!dataTable) return;\n",
              "\n",
              "        const docLinkHtml = 'Like what you see? Visit the ' +\n",
              "          '<a target=\"_blank\" href=https://colab.research.google.com/notebooks/data_table.ipynb>data table notebook</a>'\n",
              "          + ' to learn more about interactive tables.';\n",
              "        element.innerHTML = '';\n",
              "        dataTable['output_type'] = 'display_data';\n",
              "        await google.colab.output.renderOutput(dataTable, element);\n",
              "        const docLink = document.createElement('div');\n",
              "        docLink.innerHTML = docLinkHtml;\n",
              "        element.appendChild(docLink);\n",
              "      }\n",
              "    </script>\n",
              "  </div>\n",
              "\n",
              "\n",
              "<div id=\"df-44ce738b-9253-4b72-a66e-4e52bdbf44c7\">\n",
              "  <button class=\"colab-df-quickchart\" onclick=\"quickchart('df-44ce738b-9253-4b72-a66e-4e52bdbf44c7')\"\n",
              "            title=\"Suggest charts.\"\n",
              "            style=\"display:none;\">\n",
              "\n",
              "<svg xmlns=\"http://www.w3.org/2000/svg\" height=\"24px\"viewBox=\"0 0 24 24\"\n",
              "     width=\"24px\">\n",
              "    <g>\n",
              "        <path d=\"M19 3H5c-1.1 0-2 .9-2 2v14c0 1.1.9 2 2 2h14c1.1 0 2-.9 2-2V5c0-1.1-.9-2-2-2zM9 17H7v-7h2v7zm4 0h-2V7h2v10zm4 0h-2v-4h2v4z\"/>\n",
              "    </g>\n",
              "</svg>\n",
              "  </button>\n",
              "\n",
              "<style>\n",
              "  .colab-df-quickchart {\n",
              "      --bg-color: #E8F0FE;\n",
              "      --fill-color: #1967D2;\n",
              "      --hover-bg-color: #E2EBFA;\n",
              "      --hover-fill-color: #174EA6;\n",
              "      --disabled-fill-color: #AAA;\n",
              "      --disabled-bg-color: #DDD;\n",
              "  }\n",
              "\n",
              "  [theme=dark] .colab-df-quickchart {\n",
              "      --bg-color: #3B4455;\n",
              "      --fill-color: #D2E3FC;\n",
              "      --hover-bg-color: #434B5C;\n",
              "      --hover-fill-color: #FFFFFF;\n",
              "      --disabled-bg-color: #3B4455;\n",
              "      --disabled-fill-color: #666;\n",
              "  }\n",
              "\n",
              "  .colab-df-quickchart {\n",
              "    background-color: var(--bg-color);\n",
              "    border: none;\n",
              "    border-radius: 50%;\n",
              "    cursor: pointer;\n",
              "    display: none;\n",
              "    fill: var(--fill-color);\n",
              "    height: 32px;\n",
              "    padding: 0;\n",
              "    width: 32px;\n",
              "  }\n",
              "\n",
              "  .colab-df-quickchart:hover {\n",
              "    background-color: var(--hover-bg-color);\n",
              "    box-shadow: 0 1px 2px rgba(60, 64, 67, 0.3), 0 1px 3px 1px rgba(60, 64, 67, 0.15);\n",
              "    fill: var(--button-hover-fill-color);\n",
              "  }\n",
              "\n",
              "  .colab-df-quickchart-complete:disabled,\n",
              "  .colab-df-quickchart-complete:disabled:hover {\n",
              "    background-color: var(--disabled-bg-color);\n",
              "    fill: var(--disabled-fill-color);\n",
              "    box-shadow: none;\n",
              "  }\n",
              "\n",
              "  .colab-df-spinner {\n",
              "    border: 2px solid var(--fill-color);\n",
              "    border-color: transparent;\n",
              "    border-bottom-color: var(--fill-color);\n",
              "    animation:\n",
              "      spin 1s steps(1) infinite;\n",
              "  }\n",
              "\n",
              "  @keyframes spin {\n",
              "    0% {\n",
              "      border-color: transparent;\n",
              "      border-bottom-color: var(--fill-color);\n",
              "      border-left-color: var(--fill-color);\n",
              "    }\n",
              "    20% {\n",
              "      border-color: transparent;\n",
              "      border-left-color: var(--fill-color);\n",
              "      border-top-color: var(--fill-color);\n",
              "    }\n",
              "    30% {\n",
              "      border-color: transparent;\n",
              "      border-left-color: var(--fill-color);\n",
              "      border-top-color: var(--fill-color);\n",
              "      border-right-color: var(--fill-color);\n",
              "    }\n",
              "    40% {\n",
              "      border-color: transparent;\n",
              "      border-right-color: var(--fill-color);\n",
              "      border-top-color: var(--fill-color);\n",
              "    }\n",
              "    60% {\n",
              "      border-color: transparent;\n",
              "      border-right-color: var(--fill-color);\n",
              "    }\n",
              "    80% {\n",
              "      border-color: transparent;\n",
              "      border-right-color: var(--fill-color);\n",
              "      border-bottom-color: var(--fill-color);\n",
              "    }\n",
              "    90% {\n",
              "      border-color: transparent;\n",
              "      border-bottom-color: var(--fill-color);\n",
              "    }\n",
              "  }\n",
              "</style>\n",
              "\n",
              "  <script>\n",
              "    async function quickchart(key) {\n",
              "      const quickchartButtonEl =\n",
              "        document.querySelector('#' + key + ' button');\n",
              "      quickchartButtonEl.disabled = true;  // To prevent multiple clicks.\n",
              "      quickchartButtonEl.classList.add('colab-df-spinner');\n",
              "      try {\n",
              "        const charts = await google.colab.kernel.invokeFunction(\n",
              "            'suggestCharts', [key], {});\n",
              "      } catch (error) {\n",
              "        console.error('Error during call to suggestCharts:', error);\n",
              "      }\n",
              "      quickchartButtonEl.classList.remove('colab-df-spinner');\n",
              "      quickchartButtonEl.classList.add('colab-df-quickchart-complete');\n",
              "    }\n",
              "    (() => {\n",
              "      let quickchartButtonEl =\n",
              "        document.querySelector('#df-44ce738b-9253-4b72-a66e-4e52bdbf44c7 button');\n",
              "      quickchartButtonEl.style.display =\n",
              "        google.colab.kernel.accessAllowed ? 'block' : 'none';\n",
              "    })();\n",
              "  </script>\n",
              "</div>\n",
              "    </div>\n",
              "  </div>\n"
            ]
          },
          "metadata": {},
          "execution_count": 49
        }
      ]
    },
    {
      "cell_type": "markdown",
      "source": [
        "### Métricas do Texto"
      ],
      "metadata": {
        "id": "J3ToSyDn0Qfd"
      }
    },
    {
      "cell_type": "markdown",
      "source": [
        "- Caracteres:"
      ],
      "metadata": {
        "id": "gRjHlqNe0YuM"
      }
    },
    {
      "cell_type": "code",
      "source": [
        "media = df['caracteres'].mean()\n",
        "mediana = df['caracteres'].median()\n",
        "quartis = df['caracteres'].quantile([0.25, 0.5, 0.75])\n",
        "minimo = df['caracteres'].min()\n",
        "maximo = df['caracteres'].max()\n",
        "\n",
        "print(\"------ Caracteres------\")\n",
        "print(f'Média: {media}')\n",
        "print(f'Mediana: {mediana}')\n",
        "print(f'Quartil 25%: {quartis[0.25]}')\n",
        "print(f'Quartil 50% (Mediana): {quartis[0.5]}')\n",
        "print(f'Quartil 75%: {quartis[0.75]}')\n",
        "print(f'Mínimo: {minimo}')\n",
        "print(f'Máximo: {maximo}')"
      ],
      "metadata": {
        "colab": {
          "base_uri": "https://localhost:8080/"
        },
        "id": "zh5V-cqk0Pq2",
        "outputId": "a5d5f0df-b35e-40c5-8536-d86145b1338b"
      },
      "execution_count": null,
      "outputs": [
        {
          "output_type": "stream",
          "name": "stdout",
          "text": [
            "------ Caracteres------\n",
            "Média: 13798.815476190477\n",
            "Mediana: 14641.0\n",
            "Quartil 25%: 9681.0\n",
            "Quartil 50% (Mediana): 14641.0\n",
            "Quartil 75%: 18077.25\n",
            "Mínimo: 1055\n",
            "Máximo: 42606\n"
          ]
        }
      ]
    },
    {
      "cell_type": "markdown",
      "source": [
        "- Palavras"
      ],
      "metadata": {
        "id": "A5guq6k40l18"
      }
    },
    {
      "cell_type": "code",
      "source": [
        "media = df['palavras'].mean()\n",
        "mediana = df['palavras'].median()\n",
        "quartis = df['palavras'].quantile([0.25, 0.5, 0.75])\n",
        "minimo = df['palavras'].min()\n",
        "maximo = df['palavras'].max()\n",
        "\n",
        "print(\"------ Palavras------\")\n",
        "print(f'Média: {media}')\n",
        "print(f'Mediana: {mediana}')\n",
        "print(f'Quartil 25%: {quartis[0.25]}')\n",
        "print(f'Quartil 50% (Mediana): {quartis[0.5]}')\n",
        "print(f'Quartil 75%: {quartis[0.75]}')\n",
        "print(f'Mínimo: {minimo}')\n",
        "print(f'Máximo: {maximo}')"
      ],
      "metadata": {
        "colab": {
          "base_uri": "https://localhost:8080/"
        },
        "id": "DjiVIul40n6U",
        "outputId": "e33588ca-ce71-48fd-b8fb-f254034068f5"
      },
      "execution_count": null,
      "outputs": [
        {
          "output_type": "stream",
          "name": "stdout",
          "text": [
            "------ Palavras------\n",
            "Média: 2214.0773809523807\n",
            "Mediana: 2399.0\n",
            "Quartil 25%: 1537.5\n",
            "Quartil 50% (Mediana): 2399.0\n",
            "Quartil 75%: 2970.25\n",
            "Mínimo: 171\n",
            "Máximo: 6778\n"
          ]
        }
      ]
    },
    {
      "cell_type": "markdown",
      "source": [
        "#### Métricas por rótulo"
      ],
      "metadata": {
        "id": "k0AH8dnX5uc4"
      }
    },
    {
      "cell_type": "code",
      "source": [
        "estatisticas_por_rotulo = df.groupby('tipo_documento')['palavras'].agg(['mean', 'median','min','max'])\n",
        "estatisticas_por_rotulo.columns = ['media', 'mediana', 'minimo','maximo']\n",
        "print(\"------ Métricas palavras por tipo ------\")\n",
        "print(estatisticas_por_rotulo)"
      ],
      "metadata": {
        "colab": {
          "base_uri": "https://localhost:8080/"
        },
        "id": "vKCuMi3P5xbN",
        "outputId": "e9a411fd-4b9f-46f4-e4cd-f2c093055cf9"
      },
      "execution_count": null,
      "outputs": [
        {
          "output_type": "stream",
          "name": "stdout",
          "text": [
            "------ Métricas palavras por tipo ------\n",
            "                          media  mediana  minimo  maximo\n",
            "tipo_documento                                          \n",
            "Artigo de Revista   3938.000000   3976.0    1281    6778\n",
            "Artigo de Simpósio  2559.951220   2504.0     826    4946\n",
            "Notícia              298.030303    252.0     171     723\n"
          ]
        }
      ]
    },
    {
      "cell_type": "code",
      "source": [
        "estatisticas_por_rotulo = df.groupby('tipo_documento')['caracteres'].agg(['mean', 'median','min','max'])\n",
        "estatisticas_por_rotulo.columns = ['media', 'mediana', 'minimo','maximo']\n",
        "print(\"------ Métricas caracteres por tipo ------\")\n",
        "print(estatisticas_por_rotulo)"
      ],
      "metadata": {
        "colab": {
          "base_uri": "https://localhost:8080/"
        },
        "id": "ejHz4fxX5xnt",
        "outputId": "ffd4241a-18f2-4ee3-bffd-20119625f89f"
      },
      "execution_count": null,
      "outputs": [
        {
          "output_type": "stream",
          "name": "stdout",
          "text": [
            "------ Métricas caracteres por tipo ------\n",
            "                           media  mediana  minimo  maximo\n",
            "tipo_documento                                           \n",
            "Artigo de Revista   24881.333333  25359.0    7692   42606\n",
            "Artigo de Simpósio  15916.227642  15788.0    5386   31676\n",
            "Notícia              1876.636364   1632.0    1055    4357\n"
          ]
        }
      ]
    },
    {
      "cell_type": "markdown",
      "source": [
        "#### Métricas por tipo"
      ],
      "metadata": {
        "id": "Ooudv93K9WTu"
      }
    },
    {
      "cell_type": "code",
      "source": [
        "estatisticas_por_rotulo = df.groupby('rotulo')['palavras'].agg(['mean', 'median','min','max'])\n",
        "estatisticas_por_rotulo.columns = ['media', 'mediana', 'minimo','maximo']\n",
        "print(\"------ Métricas palavras por rótulo ------\")\n",
        "print(estatisticas_por_rotulo)"
      ],
      "metadata": {
        "id": "ysUadD5D9Vw4",
        "colab": {
          "base_uri": "https://localhost:8080/"
        },
        "outputId": "7cd28b07-d3ed-422b-9472-affd608df0b6"
      },
      "execution_count": null,
      "outputs": [
        {
          "output_type": "stream",
          "name": "stdout",
          "text": [
            "------ Métricas palavras por rótulo ------\n",
            "              media  mediana  minimo  maximo\n",
            "rotulo                                      \n",
            "1       2538.074468   2528.0     826    4946\n",
            "2       2658.365854   2463.0     183    6778\n",
            "3        739.181818    268.0     171    4135\n"
          ]
        }
      ]
    },
    {
      "cell_type": "code",
      "source": [
        "estatisticas_por_rotulo = df.groupby('rotulo')['caracteres'].agg(['mean', 'median','min','max'])\n",
        "estatisticas_por_rotulo.columns = ['media', 'mediana', 'minimo','maximo']\n",
        "print(\"------ Métricas caracteres por rótulo ------\")\n",
        "print(estatisticas_por_rotulo)"
      ],
      "metadata": {
        "id": "2osUf4gG9Y-o",
        "colab": {
          "base_uri": "https://localhost:8080/"
        },
        "outputId": "eb621f36-80cd-433e-8451-7cad2e23e361"
      },
      "execution_count": null,
      "outputs": [
        {
          "output_type": "stream",
          "name": "stdout",
          "text": [
            "------ Métricas caracteres por rótulo ------\n",
            "               media  mediana  minimo  maximo\n",
            "rotulo                                       \n",
            "1       15796.191489  15835.5    5386   31676\n",
            "2       16564.317073  15073.0    1115   42606\n",
            "3        4673.393939   1685.0    1055   26043\n"
          ]
        }
      ]
    },
    {
      "cell_type": "markdown",
      "source": [
        "## Métricas do resumo"
      ],
      "metadata": {
        "id": "XBjpvVIodq8x"
      }
    },
    {
      "cell_type": "code",
      "source": [
        "df['r_caracteres'] = df['resumo'].apply(contar_caracteres)"
      ],
      "metadata": {
        "id": "UbpI_CqGe25A"
      },
      "execution_count": null,
      "outputs": []
    },
    {
      "cell_type": "code",
      "source": [
        "df['r_palavras'] = df['resumo'].apply(contar_palavras)"
      ],
      "metadata": {
        "id": "KcxGUHAzgIMe"
      },
      "execution_count": null,
      "outputs": []
    },
    {
      "cell_type": "code",
      "source": [
        "media = df['r_caracteres'].mean()\n",
        "mediana = df['r_caracteres'].median()\n",
        "quartis = df['r_caracteres'].quantile([0.25, 0.5, 0.75])\n",
        "minimo = df['r_caracteres'].min()\n",
        "maximo = df['r_caracteres'].max()\n",
        "\n",
        "print(\"------ Caracteres------\")\n",
        "print(f'Média: {media}')\n",
        "print(f'Mediana: {mediana}')\n",
        "print(f'Quartil 25%: {quartis[0.25]}')\n",
        "print(f'Quartil 50% (Mediana): {quartis[0.5]}')\n",
        "print(f'Quartil 75%: {quartis[0.75]}')\n",
        "print(f'Mínimo: {minimo}')\n",
        "print(f'Máximo: {maximo}')"
      ],
      "metadata": {
        "colab": {
          "base_uri": "https://localhost:8080/"
        },
        "id": "-w3opnq_gapv",
        "outputId": "9f355e56-bccc-45e8-8303-075fe64df418"
      },
      "execution_count": null,
      "outputs": [
        {
          "output_type": "stream",
          "name": "stdout",
          "text": [
            "------ Caracteres------\n",
            "Média: 1043.2380952380952\n",
            "Mediana: 911.0\n",
            "Quartil 25%: 733.75\n",
            "Quartil 50% (Mediana): 911.0\n",
            "Quartil 75%: 1131.5\n",
            "Mínimo: 261\n",
            "Máximo: 4357\n"
          ]
        }
      ]
    },
    {
      "cell_type": "code",
      "source": [
        "media = df['r_palavras'].mean()\n",
        "mediana = df['r_palavras'].median()\n",
        "quartis = df['r_palavras'].quantile([0.25, 0.5, 0.75])\n",
        "minimo = df['r_palavras'].min()\n",
        "maximo = df['r_palavras'].max()\n",
        "\n",
        "print(\"------ Palavras------\")\n",
        "print(f'Média: {media}')\n",
        "print(f'Mediana: {mediana}')\n",
        "print(f'Quartil 25%: {quartis[0.25]}')\n",
        "print(f'Quartil 50% (Mediana): {quartis[0.5]}')\n",
        "print(f'Quartil 75%: {quartis[0.75]}')\n",
        "print(f'Mínimo: {minimo}')\n",
        "print(f'Máximo: {maximo}')"
      ],
      "metadata": {
        "colab": {
          "base_uri": "https://localhost:8080/"
        },
        "id": "XdtTvs7AgbO_",
        "outputId": "813bd3e1-7864-4f9b-ae45-01b1d5fc9131"
      },
      "execution_count": null,
      "outputs": [
        {
          "output_type": "stream",
          "name": "stdout",
          "text": [
            "------ Palavras------\n",
            "Média: 160.48214285714286\n",
            "Mediana: 139.0\n",
            "Quartil 25%: 111.0\n",
            "Quartil 50% (Mediana): 139.0\n",
            "Quartil 75%: 173.0\n",
            "Mínimo: 40\n",
            "Máximo: 723\n"
          ]
        }
      ]
    },
    {
      "cell_type": "markdown",
      "source": [
        "## Análise de tokens"
      ],
      "metadata": {
        "id": "0mtNMgz7arfW"
      }
    },
    {
      "cell_type": "code",
      "source": [
        "!pip install -qq transformers"
      ],
      "metadata": {
        "id": "4JJkk8DIavMM"
      },
      "execution_count": null,
      "outputs": []
    },
    {
      "cell_type": "code",
      "source": [
        "import transformers\n",
        "from transformers import BertModel, BertTokenizer, AdamW, get_linear_schedule_with_warmup"
      ],
      "metadata": {
        "id": "Kzom9diBazBk"
      },
      "execution_count": null,
      "outputs": []
    },
    {
      "cell_type": "markdown",
      "source": [
        "- BERTIMBAU"
      ],
      "metadata": {
        "id": "vBADYe3qbY_1"
      }
    },
    {
      "cell_type": "code",
      "source": [
        "PRE_TRAINED_MODEL_NAME = 'neuralmind/bert-base-portuguese-cased'\n",
        "tokenizer = BertTokenizer.from_pretrained(PRE_TRAINED_MODEL_NAME)"
      ],
      "metadata": {
        "id": "XYxMSGCxa1wO"
      },
      "execution_count": null,
      "outputs": []
    },
    {
      "cell_type": "code",
      "source": [
        "token_lens = []\n",
        "token_lens2 = []\n",
        "\n",
        "# Texto e resumo\n",
        "for txt in df.texto:\n",
        "  tokens = tokenizer.encode(txt, max_length=9000)\n",
        "  token_lens.append(len(tokens))\n",
        "\n",
        "for txt in df.resumo:\n",
        "  tokens2 = tokenizer.encode(txt, max_length=9000)\n",
        "  token_lens2.append(len(tokens2))"
      ],
      "metadata": {
        "id": "w-iZvYHDa45W"
      },
      "execution_count": null,
      "outputs": []
    },
    {
      "cell_type": "code",
      "source": [
        "import numpy as np\n",
        "import pandas as pd\n",
        "import seaborn as sns\n",
        "from pylab import rcParams\n",
        "import matplotlib.pyplot as plt\n",
        "from matplotlib import rc\n",
        "\n",
        "%matplotlib inline\n",
        "%config InlineBackend.figure_format='retina'\n",
        "\n",
        "sns.set(style='whitegrid', palette='muted', font_scale=1.2)\n",
        "\n",
        "HAPPY_COLORS_PALETTE = [\"#01BEFE\", \"#FFDD00\", \"#FF7D00\", \"#FF006D\", \"#ADFF02\", \"#8F00FF\"]\n",
        "\n",
        "sns.set_palette(sns.color_palette(HAPPY_COLORS_PALETTE))\n",
        "\n",
        "rcParams['figure.figsize'] = 12, 8"
      ],
      "metadata": {
        "id": "4Q12vI1za48V"
      },
      "execution_count": null,
      "outputs": []
    },
    {
      "cell_type": "code",
      "source": [
        "sns.distplot(token_lens)\n",
        "plt.xlim([0, 9000])\n",
        "plt.xlabel('Token count')\n",
        "plt.title(\"Tokens - Texto\")"
      ],
      "metadata": {
        "id": "fKhE1DcQa5A3"
      },
      "execution_count": null,
      "outputs": []
    },
    {
      "cell_type": "code",
      "source": [
        "sns.distplot(token_lens2)\n",
        "plt.xlim([0, 800])\n",
        "plt.xlabel('Token count')\n",
        "plt.title(\"Tokens - Resumo\")"
      ],
      "metadata": {
        "id": "Bqf_yQWDbKiv"
      },
      "execution_count": null,
      "outputs": []
    },
    {
      "cell_type": "code",
      "source": [
        "df_token = pd.DataFrame(token_lens, columns=[\"token texto\"])\n",
        "summary = df_token[\"token texto\"].describe()\n",
        "summary"
      ],
      "metadata": {
        "id": "0BJafOzFbKln"
      },
      "execution_count": null,
      "outputs": []
    },
    {
      "cell_type": "code",
      "source": [
        "df_token2 = pd.DataFrame(token_lens2, columns=[\"token resumo\"])\n",
        "summary = df_token2[\"token resumo\"].describe()\n",
        "summary"
      ],
      "metadata": {
        "id": "JHUOIV3VbKoV"
      },
      "execution_count": null,
      "outputs": []
    },
    {
      "cell_type": "markdown",
      "source": [
        "## Salvando como CSV"
      ],
      "metadata": {
        "id": "9A29NzCfu950"
      }
    },
    {
      "cell_type": "code",
      "source": [
        "# Exportando o DataFrame para um arquivo CSV\n",
        "df.to_csv('dataset.csv', index=False)"
      ],
      "metadata": {
        "id": "ON8qezwPPbK5"
      },
      "execution_count": null,
      "outputs": []
    },
    {
      "cell_type": "code",
      "source": [],
      "metadata": {
        "id": "1gQIPh7VkTe2"
      },
      "execution_count": null,
      "outputs": []
    }
  ],
  "metadata": {
    "kernelspec": {
      "display_name": "Python 3",
      "language": "python",
      "name": "python3"
    },
    "language_info": {
      "codemirror_mode": {
        "name": "ipython",
        "version": 3
      },
      "file_extension": ".py",
      "mimetype": "text/x-python",
      "name": "python",
      "nbconvert_exporter": "python",
      "pygments_lexer": "ipython3",
      "version": "3.8.5"
    },
    "colab": {
      "provenance": [],
      "collapsed_sections": [
        "QojUCxc5GK89",
        "772Q24OWFPg-",
        "rrET1iaxlia1",
        "jZPyz_7Flia5",
        "Wks6gcFQpw2n",
        "fjLoePxSgvqq",
        "2uf2KTSVvn22",
        "MNMKzRynxLXf",
        "J3ToSyDn0Qfd"
      ]
    }
  },
  "nbformat": 4,
  "nbformat_minor": 0
}